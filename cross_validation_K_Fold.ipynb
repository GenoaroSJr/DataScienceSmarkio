{
  "nbformat": 4,
  "nbformat_minor": 0,
  "metadata": {
    "colab": {
      "name": "cross-validation-K-Fold.ipynb",
      "provenance": [],
      "collapsed_sections": [],
      "authorship_tag": "ABX9TyNociom1ZYXrvDo8/2ns6vY",
      "include_colab_link": true
    },
    "kernelspec": {
      "name": "python3",
      "display_name": "Python 3"
    }
  },
  "cells": [
    {
      "cell_type": "markdown",
      "metadata": {
        "id": "view-in-github",
        "colab_type": "text"
      },
      "source": [
        "<a href=\"https://colab.research.google.com/github/GenoaroSJr/DataScienceSmarkio/blob/main/cross_validation_K_Fold.ipynb\" target=\"_parent\"><img src=\"https://colab.research.google.com/assets/colab-badge.svg\" alt=\"Open In Colab\"/></a>"
      ]
    },
    {
      "cell_type": "markdown",
      "metadata": {
        "id": "g8eg9fk4q84D"
      },
      "source": [
        "# Importes necessários de bibliotecas e arquivo."
      ]
    },
    {
      "cell_type": "code",
      "metadata": {
        "id": "ikLnWEa7Rr36"
      },
      "source": [
        "from google.colab import drive\n",
        "import pandas as pd"
      ],
      "execution_count": 1,
      "outputs": []
    },
    {
      "cell_type": "code",
      "metadata": {
        "colab": {
          "base_uri": "https://localhost:8080/",
          "height": 221
        },
        "id": "xKN2ogrvUSan",
        "outputId": "c950debd-2fb4-455c-8a36-2b402b038115"
      },
      "source": [
        "drive.mount(\"/content/drive/\")\n",
        "df = pd.read_excel(\"/content/drive/MyDrive/teste_smarkio_Lbs.xls\")\n",
        "df.head()"
      ],
      "execution_count": 2,
      "outputs": [
        {
          "output_type": "stream",
          "text": [
            "Mounted at /content/drive/\n"
          ],
          "name": "stdout"
        },
        {
          "output_type": "execute_result",
          "data": {
            "text/html": [
              "<div>\n",
              "<style scoped>\n",
              "    .dataframe tbody tr th:only-of-type {\n",
              "        vertical-align: middle;\n",
              "    }\n",
              "\n",
              "    .dataframe tbody tr th {\n",
              "        vertical-align: top;\n",
              "    }\n",
              "\n",
              "    .dataframe thead th {\n",
              "        text-align: right;\n",
              "    }\n",
              "</style>\n",
              "<table border=\"1\" class=\"dataframe\">\n",
              "  <thead>\n",
              "    <tr style=\"text-align: right;\">\n",
              "      <th></th>\n",
              "      <th>Pred_class</th>\n",
              "      <th>probabilidade</th>\n",
              "      <th>status</th>\n",
              "      <th>True_class</th>\n",
              "    </tr>\n",
              "  </thead>\n",
              "  <tbody>\n",
              "    <tr>\n",
              "      <th>0</th>\n",
              "      <td>2</td>\n",
              "      <td>0.079892</td>\n",
              "      <td>approved</td>\n",
              "      <td>0.0</td>\n",
              "    </tr>\n",
              "    <tr>\n",
              "      <th>1</th>\n",
              "      <td>2</td>\n",
              "      <td>0.379377</td>\n",
              "      <td>approved</td>\n",
              "      <td>74.0</td>\n",
              "    </tr>\n",
              "    <tr>\n",
              "      <th>2</th>\n",
              "      <td>2</td>\n",
              "      <td>0.379377</td>\n",
              "      <td>approved</td>\n",
              "      <td>74.0</td>\n",
              "    </tr>\n",
              "    <tr>\n",
              "      <th>3</th>\n",
              "      <td>2</td>\n",
              "      <td>0.420930</td>\n",
              "      <td>approved</td>\n",
              "      <td>74.0</td>\n",
              "    </tr>\n",
              "    <tr>\n",
              "      <th>4</th>\n",
              "      <td>2</td>\n",
              "      <td>0.607437</td>\n",
              "      <td>approved</td>\n",
              "      <td>NaN</td>\n",
              "    </tr>\n",
              "  </tbody>\n",
              "</table>\n",
              "</div>"
            ],
            "text/plain": [
              "   Pred_class  probabilidade    status  True_class\n",
              "0           2       0.079892  approved         0.0\n",
              "1           2       0.379377  approved        74.0\n",
              "2           2       0.379377  approved        74.0\n",
              "3           2       0.420930  approved        74.0\n",
              "4           2       0.607437  approved         NaN"
            ]
          },
          "metadata": {
            "tags": []
          },
          "execution_count": 2
        }
      ]
    },
    {
      "cell_type": "markdown",
      "metadata": {
        "id": "i96HQmEqUviM"
      },
      "source": [
        "### Tratando os dados"
      ]
    },
    {
      "cell_type": "code",
      "metadata": {
        "colab": {
          "base_uri": "https://localhost:8080/"
        },
        "id": "yRQPxrjPUyM0",
        "outputId": "093e83ef-9a79-44b3-93c7-07a133baf600"
      },
      "source": [
        "x = len(df)\n",
        "\n",
        "Truee = df['True_class']\n",
        "Pred = df['Pred_class']\n",
        "\n",
        "for i in range(x):\n",
        "  if (Truee[i] >= 0):\n",
        "    ...\n",
        "  else:\n",
        "    Truee[i] = Pred[i]\n",
        "  \n",
        "print(df)"
      ],
      "execution_count": 3,
      "outputs": [
        {
          "output_type": "stream",
          "text": [
            "     Pred_class  probabilidade    status  True_class\n",
            "0             2       0.079892  approved         0.0\n",
            "1             2       0.379377  approved        74.0\n",
            "2             2       0.379377  approved        74.0\n",
            "3             2       0.420930  approved        74.0\n",
            "4             2       0.607437  approved         2.0\n",
            "..          ...            ...       ...         ...\n",
            "595          74       0.432421  approved        74.0\n",
            "596          82       0.590576  approved        82.0\n",
            "597          92       0.915543  approved        92.0\n",
            "598          96       0.334495  approved        96.0\n",
            "599          99       0.373226  approved        22.0\n",
            "\n",
            "[600 rows x 4 columns]\n"
          ],
          "name": "stdout"
        },
        {
          "output_type": "stream",
          "text": [
            "/usr/local/lib/python3.6/dist-packages/ipykernel_launcher.py:10: SettingWithCopyWarning: \n",
            "A value is trying to be set on a copy of a slice from a DataFrame\n",
            "\n",
            "See the caveats in the documentation: https://pandas.pydata.org/pandas-docs/stable/user_guide/indexing.html#returning-a-view-versus-a-copy\n",
            "  # Remove the CWD from sys.path while we load stuff.\n"
          ],
          "name": "stderr"
        }
      ]
    },
    {
      "cell_type": "code",
      "metadata": {
        "id": "4tkS4DzjZRhD",
        "colab": {
          "base_uri": "https://localhost:8080/",
          "height": 684
        },
        "outputId": "a0fc747a-c112-47c7-d28a-473c5eb49e7c"
      },
      "source": [
        "tamanho = len(df)\n",
        "Truee2 = df['True_class']\n",
        "Pred2 = df['Pred_class']\n",
        "for i in range(tamanho):\n",
        "  if (Truee2[i] != Pred2[i]):\n",
        "    Pred2[i] = 0;\n",
        "  else: \n",
        "    Pred2[i] = 1\n",
        "\n",
        "df.head(15)"
      ],
      "execution_count": 4,
      "outputs": [
        {
          "output_type": "stream",
          "text": [
            "/usr/local/lib/python3.6/dist-packages/ipykernel_launcher.py:6: SettingWithCopyWarning: \n",
            "A value is trying to be set on a copy of a slice from a DataFrame\n",
            "\n",
            "See the caveats in the documentation: https://pandas.pydata.org/pandas-docs/stable/user_guide/indexing.html#returning-a-view-versus-a-copy\n",
            "  \n",
            "/usr/local/lib/python3.6/dist-packages/ipykernel_launcher.py:8: SettingWithCopyWarning: \n",
            "A value is trying to be set on a copy of a slice from a DataFrame\n",
            "\n",
            "See the caveats in the documentation: https://pandas.pydata.org/pandas-docs/stable/user_guide/indexing.html#returning-a-view-versus-a-copy\n",
            "  \n"
          ],
          "name": "stderr"
        },
        {
          "output_type": "execute_result",
          "data": {
            "text/html": [
              "<div>\n",
              "<style scoped>\n",
              "    .dataframe tbody tr th:only-of-type {\n",
              "        vertical-align: middle;\n",
              "    }\n",
              "\n",
              "    .dataframe tbody tr th {\n",
              "        vertical-align: top;\n",
              "    }\n",
              "\n",
              "    .dataframe thead th {\n",
              "        text-align: right;\n",
              "    }\n",
              "</style>\n",
              "<table border=\"1\" class=\"dataframe\">\n",
              "  <thead>\n",
              "    <tr style=\"text-align: right;\">\n",
              "      <th></th>\n",
              "      <th>Pred_class</th>\n",
              "      <th>probabilidade</th>\n",
              "      <th>status</th>\n",
              "      <th>True_class</th>\n",
              "    </tr>\n",
              "  </thead>\n",
              "  <tbody>\n",
              "    <tr>\n",
              "      <th>0</th>\n",
              "      <td>0</td>\n",
              "      <td>0.079892</td>\n",
              "      <td>approved</td>\n",
              "      <td>0.0</td>\n",
              "    </tr>\n",
              "    <tr>\n",
              "      <th>1</th>\n",
              "      <td>0</td>\n",
              "      <td>0.379377</td>\n",
              "      <td>approved</td>\n",
              "      <td>74.0</td>\n",
              "    </tr>\n",
              "    <tr>\n",
              "      <th>2</th>\n",
              "      <td>0</td>\n",
              "      <td>0.379377</td>\n",
              "      <td>approved</td>\n",
              "      <td>74.0</td>\n",
              "    </tr>\n",
              "    <tr>\n",
              "      <th>3</th>\n",
              "      <td>0</td>\n",
              "      <td>0.420930</td>\n",
              "      <td>approved</td>\n",
              "      <td>74.0</td>\n",
              "    </tr>\n",
              "    <tr>\n",
              "      <th>4</th>\n",
              "      <td>1</td>\n",
              "      <td>0.607437</td>\n",
              "      <td>approved</td>\n",
              "      <td>2.0</td>\n",
              "    </tr>\n",
              "    <tr>\n",
              "      <th>5</th>\n",
              "      <td>1</td>\n",
              "      <td>0.690894</td>\n",
              "      <td>approved</td>\n",
              "      <td>2.0</td>\n",
              "    </tr>\n",
              "    <tr>\n",
              "      <th>6</th>\n",
              "      <td>1</td>\n",
              "      <td>0.759493</td>\n",
              "      <td>approved</td>\n",
              "      <td>2.0</td>\n",
              "    </tr>\n",
              "    <tr>\n",
              "      <th>7</th>\n",
              "      <td>1</td>\n",
              "      <td>0.834910</td>\n",
              "      <td>approved</td>\n",
              "      <td>2.0</td>\n",
              "    </tr>\n",
              "    <tr>\n",
              "      <th>8</th>\n",
              "      <td>1</td>\n",
              "      <td>0.861396</td>\n",
              "      <td>approved</td>\n",
              "      <td>2.0</td>\n",
              "    </tr>\n",
              "    <tr>\n",
              "      <th>9</th>\n",
              "      <td>1</td>\n",
              "      <td>1.000000</td>\n",
              "      <td>approved</td>\n",
              "      <td>2.0</td>\n",
              "    </tr>\n",
              "    <tr>\n",
              "      <th>10</th>\n",
              "      <td>1</td>\n",
              "      <td>1.000000</td>\n",
              "      <td>approved</td>\n",
              "      <td>2.0</td>\n",
              "    </tr>\n",
              "    <tr>\n",
              "      <th>11</th>\n",
              "      <td>1</td>\n",
              "      <td>0.341439</td>\n",
              "      <td>approved</td>\n",
              "      <td>3.0</td>\n",
              "    </tr>\n",
              "    <tr>\n",
              "      <th>12</th>\n",
              "      <td>0</td>\n",
              "      <td>0.347487</td>\n",
              "      <td>approved</td>\n",
              "      <td>108.0</td>\n",
              "    </tr>\n",
              "    <tr>\n",
              "      <th>13</th>\n",
              "      <td>0</td>\n",
              "      <td>0.412253</td>\n",
              "      <td>approved</td>\n",
              "      <td>79.0</td>\n",
              "    </tr>\n",
              "    <tr>\n",
              "      <th>14</th>\n",
              "      <td>0</td>\n",
              "      <td>0.493982</td>\n",
              "      <td>approved</td>\n",
              "      <td>24.0</td>\n",
              "    </tr>\n",
              "  </tbody>\n",
              "</table>\n",
              "</div>"
            ],
            "text/plain": [
              "    Pred_class  probabilidade    status  True_class\n",
              "0            0       0.079892  approved         0.0\n",
              "1            0       0.379377  approved        74.0\n",
              "2            0       0.379377  approved        74.0\n",
              "3            0       0.420930  approved        74.0\n",
              "4            1       0.607437  approved         2.0\n",
              "5            1       0.690894  approved         2.0\n",
              "6            1       0.759493  approved         2.0\n",
              "7            1       0.834910  approved         2.0\n",
              "8            1       0.861396  approved         2.0\n",
              "9            1       1.000000  approved         2.0\n",
              "10           1       1.000000  approved         2.0\n",
              "11           1       0.341439  approved         3.0\n",
              "12           0       0.347487  approved       108.0\n",
              "13           0       0.412253  approved        79.0\n",
              "14           0       0.493982  approved        24.0"
            ]
          },
          "metadata": {
            "tags": []
          },
          "execution_count": 4
        }
      ]
    },
    {
      "cell_type": "markdown",
      "metadata": {
        "id": "wPtG_6ancZM1"
      },
      "source": [
        "### ML - cross-validation k-Fold"
      ]
    },
    {
      "cell_type": "code",
      "metadata": {
        "id": "zxz0_AX8YfM8"
      },
      "source": [
        "#Importes\n",
        "from sklearn.naive_bayes import GaussianNB\n",
        "import numpy as np"
      ],
      "execution_count": 5,
      "outputs": []
    },
    {
      "cell_type": "code",
      "metadata": {
        "id": "BULMGB63YtOK"
      },
      "source": [
        "#Separando so previsores das calsses\n",
        "classe = df.iloc[:,0].values\n",
        "previsores = df.iloc[:,1].values"
      ],
      "execution_count": 6,
      "outputs": []
    },
    {
      "cell_type": "code",
      "metadata": {
        "colab": {
          "base_uri": "https://localhost:8080/"
        },
        "id": "r_5urkAQScBu",
        "outputId": "86d0e0a2-105e-4812-e6c6-fe9c5e68a095"
      },
      "source": [
        "#Fazendo com que o array tenha dimensões de (x,1).\n",
        "previsores = np.reshape(previsores,(-1,1))\n",
        "#classe = np.reshape(classe,(-1,1))\n",
        "len(previsores)"
      ],
      "execution_count": 8,
      "outputs": [
        {
          "output_type": "execute_result",
          "data": {
            "text/plain": [
              "600"
            ]
          },
          "metadata": {
            "tags": []
          },
          "execution_count": 8
        }
      ]
    },
    {
      "cell_type": "code",
      "metadata": {
        "id": "ZEBg0U9maOSM",
        "colab": {
          "base_uri": "https://localhost:8080/"
        },
        "outputId": "01894b2b-26f2-4b16-e05e-56dcc7189700"
      },
      "source": [
        "previsores.shape\n",
        "previsores.shape[0]\n",
        "#b = np.zeros(shape=(previsores.shape[0],1))"
      ],
      "execution_count": 9,
      "outputs": [
        {
          "output_type": "execute_result",
          "data": {
            "text/plain": [
              "600"
            ]
          },
          "metadata": {
            "tags": []
          },
          "execution_count": 9
        }
      ]
    },
    {
      "cell_type": "code",
      "metadata": {
        "id": "mpBnhfSXa18B"
      },
      "source": [
        "#Importando as bibliotecas necessárias para estratificação e acuracia\n",
        "from sklearn.model_selection import StratifiedKFold\n",
        "from sklearn.metrics import accuracy_score"
      ],
      "execution_count": 10,
      "outputs": []
    },
    {
      "cell_type": "code",
      "metadata": {
        "id": "Z-6_s3B64YF6"
      },
      "source": [
        "#Determiando a quantiades de splits k = 10\n",
        "kfold = StratifiedKFold(n_splits=10, shuffle=True, random_state=0)\n",
        "resultados = []"
      ],
      "execution_count": 11,
      "outputs": []
    },
    {
      "cell_type": "code",
      "metadata": {
        "id": "QEIzIog7auAQ"
      },
      "source": [
        "#Fazendo o ML\n",
        "for indice_treinamento, indice_teste in kfold.split(previsores, np.zeros(shape=(previsores.shape[0],1))):\n",
        "  classificador = GaussianNB()\n",
        "  classificador.fit(previsores[indice_treinamento], classe[indice_treinamento])\n",
        "  previsoes = classificador.predict(previsores[indice_teste])\n",
        "  precisao = accuracy_score(classe[indice_teste], previsoes)\n",
        "  resultados.append(precisao)"
      ],
      "execution_count": 12,
      "outputs": []
    },
    {
      "cell_type": "code",
      "metadata": {
        "colab": {
          "base_uri": "https://localhost:8080/"
        },
        "id": "jQ3q1y0p7Nd_",
        "outputId": "7b551154-f422-4c1d-93e0-d30671509000"
      },
      "source": [
        "#Resultado para cada separação do algoritmo K-fold\n",
        "print(resultados)\n",
        "len(resultados)"
      ],
      "execution_count": 13,
      "outputs": [
        {
          "output_type": "stream",
          "text": [
            "[0.6666666666666666, 0.75, 0.8, 0.7833333333333333, 0.7333333333333333, 0.8, 0.6833333333333333, 0.8166666666666667, 0.8333333333333334, 0.75]\n"
          ],
          "name": "stdout"
        },
        {
          "output_type": "execute_result",
          "data": {
            "text/plain": [
              "10"
            ]
          },
          "metadata": {
            "tags": []
          },
          "execution_count": 13
        }
      ]
    },
    {
      "cell_type": "code",
      "metadata": {
        "colab": {
          "base_uri": "https://localhost:8080/"
        },
        "id": "Fo9n1LIjciJe",
        "outputId": "c335da14-983d-4a6c-d46d-928149abc353"
      },
      "source": [
        "#Média de acerto - determinada a confiabilidade na ML\n",
        "resultados = np.asarray(resultados)\n",
        "resultados.mean()"
      ],
      "execution_count": 14,
      "outputs": [
        {
          "output_type": "execute_result",
          "data": {
            "text/plain": [
              "0.7616666666666666"
            ]
          },
          "metadata": {
            "tags": []
          },
          "execution_count": 14
        }
      ]
    },
    {
      "cell_type": "markdown",
      "metadata": {
        "id": "gPz1RdfgdZxu"
      },
      "source": [
        "Predição dados \"revision\""
      ]
    },
    {
      "cell_type": "code",
      "metadata": {
        "colab": {
          "base_uri": "https://localhost:8080/",
          "height": 204
        },
        "id": "FfXA790mdS4l",
        "outputId": "c3e636bf-9fcf-47ae-b405-8a6dce0d8ae9"
      },
      "source": [
        "df2 = pd.read_excel(\"/content/drive/MyDrive/Data-revision.xlsx\")\n",
        "df2.head()"
      ],
      "execution_count": 15,
      "outputs": [
        {
          "output_type": "execute_result",
          "data": {
            "text/html": [
              "<div>\n",
              "<style scoped>\n",
              "    .dataframe tbody tr th:only-of-type {\n",
              "        vertical-align: middle;\n",
              "    }\n",
              "\n",
              "    .dataframe tbody tr th {\n",
              "        vertical-align: top;\n",
              "    }\n",
              "\n",
              "    .dataframe thead th {\n",
              "        text-align: right;\n",
              "    }\n",
              "</style>\n",
              "<table border=\"1\" class=\"dataframe\">\n",
              "  <thead>\n",
              "    <tr style=\"text-align: right;\">\n",
              "      <th></th>\n",
              "      <th>Pred_class</th>\n",
              "      <th>probabilidade</th>\n",
              "      <th>status</th>\n",
              "    </tr>\n",
              "  </thead>\n",
              "  <tbody>\n",
              "    <tr>\n",
              "      <th>0</th>\n",
              "      <td>2</td>\n",
              "      <td>0.752448</td>\n",
              "      <td>revision</td>\n",
              "    </tr>\n",
              "    <tr>\n",
              "      <th>1</th>\n",
              "      <td>24</td>\n",
              "      <td>0.817525</td>\n",
              "      <td>revision</td>\n",
              "    </tr>\n",
              "    <tr>\n",
              "      <th>2</th>\n",
              "      <td>24</td>\n",
              "      <td>0.909148</td>\n",
              "      <td>revision</td>\n",
              "    </tr>\n",
              "    <tr>\n",
              "      <th>3</th>\n",
              "      <td>25</td>\n",
              "      <td>0.509871</td>\n",
              "      <td>revision</td>\n",
              "    </tr>\n",
              "    <tr>\n",
              "      <th>4</th>\n",
              "      <td>25</td>\n",
              "      <td>0.629700</td>\n",
              "      <td>revision</td>\n",
              "    </tr>\n",
              "  </tbody>\n",
              "</table>\n",
              "</div>"
            ],
            "text/plain": [
              "   Pred_class  probabilidade    status\n",
              "0           2       0.752448  revision\n",
              "1          24       0.817525  revision\n",
              "2          24       0.909148  revision\n",
              "3          25       0.509871  revision\n",
              "4          25       0.629700  revision"
            ]
          },
          "metadata": {
            "tags": []
          },
          "execution_count": 15
        }
      ]
    },
    {
      "cell_type": "code",
      "metadata": {
        "colab": {
          "base_uri": "https://localhost:8080/"
        },
        "id": "w2Pd7anieVHT",
        "outputId": "2bc38ac4-0463-4591-fada-0ab800956967"
      },
      "source": [
        "revision = df2.iloc[:,1].values\n",
        "print(revision)"
      ],
      "execution_count": 16,
      "outputs": [
        {
          "output_type": "stream",
          "text": [
            "[0.75244765 0.81752524 0.90914783 0.5098706  0.62969995 0.63342581\n",
            " 0.62122641 0.74029212 0.40373359 0.41972322 0.54547849 0.48706882\n",
            " 0.32070209 0.28712597 0.51111815 0.33116804 0.39980799 0.40532651\n",
            " 0.32413663 0.73713288 0.81211181 0.81211181 0.7257935  0.42199774\n",
            " 0.35140133 0.31300296 0.51673338 0.33435048 0.35103074 0.78491964\n",
            " 0.27851571 0.30191529 0.57475593 0.50665405 0.31830646 0.28554497\n",
            " 0.74007516 0.67526913 0.54377229 0.55384572 0.60606494 0.56184244\n",
            " 0.34073956]\n"
          ],
          "name": "stdout"
        }
      ]
    },
    {
      "cell_type": "code",
      "metadata": {
        "id": "zd5KOuF5kUcs"
      },
      "source": [
        "#Tratando os dados para que tenham estrutura igual a (x,1)\n",
        "revision = np.reshape(revision,(-1,1))\n",
        "print(revision)"
      ],
      "execution_count": null,
      "outputs": []
    },
    {
      "cell_type": "code",
      "metadata": {
        "id": "E1PDV6ZPeKUs"
      },
      "source": [
        "#Aplicando no algoritmo treinado\n",
        "previsoes_revision = []\n",
        "for i in range(len(revision)):\n",
        "  previsoes_revision.append(classificador.predict(revision[[i]]))"
      ],
      "execution_count": 18,
      "outputs": []
    },
    {
      "cell_type": "code",
      "metadata": {
        "id": "B731qFAKlPC2"
      },
      "source": [
        "#Resultado em array\n",
        "previsoes_revision = np.asarray(previsoes_revision)\n",
        "print(previsoes_revision)"
      ],
      "execution_count": null,
      "outputs": []
    },
    {
      "cell_type": "markdown",
      "metadata": {
        "id": "Zzmwj9KJm-fG"
      },
      "source": [
        "### Breve análise dos resultados\r\n"
      ]
    },
    {
      "cell_type": "code",
      "metadata": {
        "id": "coshRuBFno0b",
        "colab": {
          "base_uri": "https://localhost:8080/",
          "height": 204
        },
        "outputId": "4fc79abb-e3a1-44af-8bc3-227f985b875a"
      },
      "source": [
        "df2['Previsão'] = previsoes_revision\n",
        "df2.head(5)"
      ],
      "execution_count": 20,
      "outputs": [
        {
          "output_type": "execute_result",
          "data": {
            "text/html": [
              "<div>\n",
              "<style scoped>\n",
              "    .dataframe tbody tr th:only-of-type {\n",
              "        vertical-align: middle;\n",
              "    }\n",
              "\n",
              "    .dataframe tbody tr th {\n",
              "        vertical-align: top;\n",
              "    }\n",
              "\n",
              "    .dataframe thead th {\n",
              "        text-align: right;\n",
              "    }\n",
              "</style>\n",
              "<table border=\"1\" class=\"dataframe\">\n",
              "  <thead>\n",
              "    <tr style=\"text-align: right;\">\n",
              "      <th></th>\n",
              "      <th>Pred_class</th>\n",
              "      <th>probabilidade</th>\n",
              "      <th>status</th>\n",
              "      <th>Previsão</th>\n",
              "    </tr>\n",
              "  </thead>\n",
              "  <tbody>\n",
              "    <tr>\n",
              "      <th>0</th>\n",
              "      <td>2</td>\n",
              "      <td>0.752448</td>\n",
              "      <td>revision</td>\n",
              "      <td>1</td>\n",
              "    </tr>\n",
              "    <tr>\n",
              "      <th>1</th>\n",
              "      <td>24</td>\n",
              "      <td>0.817525</td>\n",
              "      <td>revision</td>\n",
              "      <td>1</td>\n",
              "    </tr>\n",
              "    <tr>\n",
              "      <th>2</th>\n",
              "      <td>24</td>\n",
              "      <td>0.909148</td>\n",
              "      <td>revision</td>\n",
              "      <td>1</td>\n",
              "    </tr>\n",
              "    <tr>\n",
              "      <th>3</th>\n",
              "      <td>25</td>\n",
              "      <td>0.509871</td>\n",
              "      <td>revision</td>\n",
              "      <td>1</td>\n",
              "    </tr>\n",
              "    <tr>\n",
              "      <th>4</th>\n",
              "      <td>25</td>\n",
              "      <td>0.629700</td>\n",
              "      <td>revision</td>\n",
              "      <td>1</td>\n",
              "    </tr>\n",
              "  </tbody>\n",
              "</table>\n",
              "</div>"
            ],
            "text/plain": [
              "   Pred_class  probabilidade    status  Previsão\n",
              "0           2       0.752448  revision         1\n",
              "1          24       0.817525  revision         1\n",
              "2          24       0.909148  revision         1\n",
              "3          25       0.509871  revision         1\n",
              "4          25       0.629700  revision         1"
            ]
          },
          "metadata": {
            "tags": []
          },
          "execution_count": 20
        }
      ]
    },
    {
      "cell_type": "code",
      "metadata": {
        "colab": {
          "base_uri": "https://localhost:8080/",
          "height": 383
        },
        "id": "9dsyu00BnAdw",
        "outputId": "696b9511-784c-4a05-b35b-a5bed6273fc1"
      },
      "source": [
        "import seaborn as sns\n",
        "sns.catplot(x=\"Previsão\", y=\"probabilidade\", kind=\"box\", data=df2);\n",
        "sns.stripplot(x=\"Previsão\", y=\"probabilidade\", data=df2, color=\"blue\");"
      ],
      "execution_count": 21,
      "outputs": [
        {
          "output_type": "display_data",
          "data": {
            "image/png": "[encoded data removed]",
            "text/plain": [
              "<Figure size 360x360 with 1 Axes>"
            ]
          },
          "metadata": {
            "tags": [],
            "needs_background": "light"
          }
        }
      ]
    },
    {
      "cell_type": "markdown",
      "metadata": {
        "id": "RccroUnPtIT9"
      },
      "source": [
        "### Observação Final\r\n",
        "> Aqui devemos ficar atentos para a propagação de erro. Já havia uma certa taxa de erros no dados coletados do data frame (verificado na análise exploratória), há também uma taxa de erro da predição deste artigo que soma ao erro já existente. Portanto, é certo dizer que a taxa de acerto desse código está abaixo do valor demonstrado (0,76)."
      ]
    },
    {
      "cell_type": "code",
      "metadata": {
        "id": "ZHXSGV0StJHz"
      },
      "source": [
        ""
      ],
      "execution_count": 21,
      "outputs": []
    }
  ]
}