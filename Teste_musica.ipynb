{
  "nbformat": 4,
  "nbformat_minor": 0,
  "metadata": {
    "colab": {
      "name": "Teste_musica.ipynb",
      "provenance": [],
      "collapsed_sections": [],
      "authorship_tag": "ABX9TyPsWoOEu+vflgzvfW6tn1Vl",
      "include_colab_link": true
    },
    "kernelspec": {
      "name": "python3",
      "display_name": "Python 3"
    }
  },
  "cells": [
    {
      "cell_type": "markdown",
      "metadata": {
        "id": "view-in-github",
        "colab_type": "text"
      },
      "source": [
        "<a href=\"https://colab.research.google.com/github/GenoaroSJr/DataScienceSmarkio/blob/main/Teste_musica.ipynb\" target=\"_parent\"><img src=\"https://colab.research.google.com/assets/colab-badge.svg\" alt=\"Open In Colab\"/></a>"
      ]
    },
    {
      "cell_type": "markdown",
      "metadata": {
        "id": "yAHxJfU-cBEV"
      },
      "source": [
        "# Importando dados"
      ]
    },
    {
      "cell_type": "code",
      "metadata": {
        "id": "dEXh7JlNmrD_"
      },
      "source": [
        "from google.colab import drive\n",
        "import pandas as pd\n",
        "import numpy as np\n",
        "from\tsklearn.model_selection\timport\tcross_val_score\n",
        "from sklearn.multiclass import OneVsRestClassifier\n",
        "from sklearn.svm import LinearSVC"
      ],
      "execution_count": null,
      "outputs": []
    },
    {
      "cell_type": "code",
      "metadata": {
        "colab": {
          "base_uri": "https://localhost:8080/",
          "height": 241
        },
        "id": "Tp_iAlI-pv3D",
        "outputId": "6f83c352-1830-41a9-9a42-cca46c5edc9a"
      },
      "source": [
        "drive.mount(\"/content/drive/\")\n",
        "df = pd.read_excel(\"/content/drive/MyDrive/musica_dados.xlsx\")\n",
        "df.head()"
      ],
      "execution_count": null,
      "outputs": [
        {
          "output_type": "stream",
          "text": [
            "Drive already mounted at /content/drive/; to attempt to forcibly remount, call drive.mount(\"/content/drive/\", force_remount=True).\n"
          ],
          "name": "stdout"
        },
        {
          "output_type": "execute_result",
          "data": {
            "text/html": [
              "<div>\n",
              "<style scoped>\n",
              "    .dataframe tbody tr th:only-of-type {\n",
              "        vertical-align: middle;\n",
              "    }\n",
              "\n",
              "    .dataframe tbody tr th {\n",
              "        vertical-align: top;\n",
              "    }\n",
              "\n",
              "    .dataframe thead th {\n",
              "        text-align: right;\n",
              "    }\n",
              "</style>\n",
              "<table border=\"1\" class=\"dataframe\">\n",
              "  <thead>\n",
              "    <tr style=\"text-align: right;\">\n",
              "      <th></th>\n",
              "      <th>letra</th>\n",
              "      <th>artista</th>\n",
              "    </tr>\n",
              "  </thead>\n",
              "  <tbody>\n",
              "    <tr>\n",
              "      <th>0</th>\n",
              "      <td>Jay-z Uh-uh-uh You ready b? Let's go get 'em. ...</td>\n",
              "      <td>Beyoncé</td>\n",
              "    </tr>\n",
              "    <tr>\n",
              "      <th>1</th>\n",
              "      <td>Your challengers are a young group from Housto...</td>\n",
              "      <td>Beyoncé</td>\n",
              "    </tr>\n",
              "    <tr>\n",
              "      <th>2</th>\n",
              "      <td>Dum-da-de-da Do, do, do, do, do, do (Coming do...</td>\n",
              "      <td>Beyoncé</td>\n",
              "    </tr>\n",
              "    <tr>\n",
              "      <th>3</th>\n",
              "      <td>If I ain't got nothing I got you If I ain't go...</td>\n",
              "      <td>Beyoncé</td>\n",
              "    </tr>\n",
              "    <tr>\n",
              "      <th>4</th>\n",
              "      <td>Six inch heels She walked in the club like nob...</td>\n",
              "      <td>Beyoncé</td>\n",
              "    </tr>\n",
              "  </tbody>\n",
              "</table>\n",
              "</div>"
            ],
            "text/plain": [
              "                                               letra  artista\n",
              "0  Jay-z Uh-uh-uh You ready b? Let's go get 'em. ...  Beyoncé\n",
              "1  Your challengers are a young group from Housto...  Beyoncé\n",
              "2  Dum-da-de-da Do, do, do, do, do, do (Coming do...  Beyoncé\n",
              "3  If I ain't got nothing I got you If I ain't go...  Beyoncé\n",
              "4  Six inch heels She walked in the club like nob...  Beyoncé"
            ]
          },
          "metadata": {
            "tags": []
          },
          "execution_count": 28
        }
      ]
    },
    {
      "cell_type": "markdown",
      "metadata": {
        "id": "VcacNqJucImf"
      },
      "source": [
        "# Tratando dados"
      ]
    },
    {
      "cell_type": "code",
      "metadata": {
        "id": "V0Z2216cZXUg"
      },
      "source": [
        "#Separando os artistas\r\n",
        "artista = df['artista']"
      ],
      "execution_count": null,
      "outputs": []
    },
    {
      "cell_type": "code",
      "metadata": {
        "id": "jgPnQfF8YlIs"
      },
      "source": [
        "#Se necessários, fazer com que os dados categóricos se tornem numéricos\n",
        "#for i in range(len(df)):\n",
        "#  if (artista[i] == 'Beyoncé'):\n",
        "#    artista[i] = 1\n",
        "#  else:\n",
        "#    artista[i] = 2\n",
        "#print(len(df))\n",
        "#df.head(500)"
      ],
      "execution_count": null,
      "outputs": []
    },
    {
      "cell_type": "code",
      "metadata": {
        "id": "cqJadHPObFpW"
      },
      "source": [
        "#Pegando os textos dcoluna \"letra\"\r\n",
        "textos = df['letra']"
      ],
      "execution_count": null,
      "outputs": []
    },
    {
      "cell_type": "code",
      "metadata": {
        "colab": {
          "base_uri": "https://localhost:8080/"
        },
        "id": "M5SDMhGKbQqL",
        "outputId": "c6506572-6dd5-41cf-e338-6501348cf23b"
      },
      "source": [
        "#Pegando cada palavra de forma isolada\n",
        "palavrasIsoladas = textos.str.lower().str.split()\n",
        "print(palavrasIsoladas)"
      ],
      "execution_count": null,
      "outputs": [
        {
          "output_type": "stream",
          "text": [
            "0      [jay-z, uh-uh-uh, you, ready, b?, let's, go, g...\n",
            "1      [your, challengers, are, a, young, group, from...\n",
            "2      [dum-da-de-da, do,, do,, do,, do,, do,, do, (c...\n",
            "3      [if, i, ain't, got, nothing, i, got, you, if, ...\n",
            "4      [six, inch, heels, she, walked, in, the, club,...\n",
            "                             ...                        \n",
            "513    [yeah, yeah, yeah, yeah, i, ain't, trying, to,...\n",
            "514    [you, the, one, that, i, dream, about, all, da...\n",
            "515    [no,, no,, no, you, don't, love, me, and, i, k...\n",
            "516    [you, should, be, mine, oh, baby,, oh, baby,, ...\n",
            "517    [[rihanna], i, remember, when, the, world, was...\n",
            "Name: letra, Length: 518, dtype: object\n"
          ],
          "name": "stdout"
        }
      ]
    },
    {
      "cell_type": "markdown",
      "metadata": {
        "id": "dFHrL1Q8cSpt"
      },
      "source": [
        "### Criando dicionário"
      ]
    },
    {
      "cell_type": "code",
      "metadata": {
        "colab": {
          "base_uri": "https://localhost:8080/"
        },
        "id": "3ty-1WVgcQJ3",
        "outputId": "2e35078b-4dde-46c9-98aa-ef3f92296e53"
      },
      "source": [
        "#pegando tadas as palavras que aparecem nos textos\n",
        "dicionario = set()\n",
        "\n",
        "for lista in palavrasIsoladas:\n",
        "  dicionario.update(lista)\n",
        "\n",
        "#print(dicionario)\n",
        "len(dicionario)"
      ],
      "execution_count": null,
      "outputs": [
        {
          "output_type": "execute_result",
          "data": {
            "text/plain": [
              "11726"
            ]
          },
          "metadata": {
            "tags": []
          },
          "execution_count": 56
        }
      ]
    },
    {
      "cell_type": "markdown",
      "metadata": {
        "id": "kG1Y8dz_c3Gi"
      },
      "source": [
        "### Vinculando palavras a posição em um vetor:"
      ]
    },
    {
      "cell_type": "code",
      "metadata": {
        "id": "Uy5S-KcWcxVW"
      },
      "source": [
        "totalDePalavras = len(dicionario)\n",
        "palavraEposicao = dict(zip(dicionario, range(totalDePalavras)))\n",
        "#print(palavraEposicao)"
      ],
      "execution_count": null,
      "outputs": []
    },
    {
      "cell_type": "markdown",
      "metadata": {
        "id": "WRDlwQNldTsF"
      },
      "source": [
        "### Contando a presença de cada palavra:\r\n",
        "\r\n",
        "> Para cada frase, o algoritmo irá retornar {x, y, z} mostrando quais palavras do dicionário aparece em determinada frase, sendo x, y e z a quantidade"
      ]
    },
    {
      "cell_type": "code",
      "metadata": {
        "id": "c0Ebt3phdS1i"
      },
      "source": [
        "def vetorizarPresencaPalavras(texto, palavraEposicao):\n",
        "  vetor = [0] * len(palavraEposicao)\n",
        "  for palavra in texto:\n",
        "    if palavra in palavraEposicao:\n",
        "      posicao = palavraEposicao[palavra]\n",
        "      vetor[posicao] += 1\n",
        "  return vetor\n",
        "\n",
        "vetoresDeTexto = [vetorizarPresencaPalavras(texto, palavraEposicao) for texto in palavrasIsoladas]\n",
        "#print(vetoresDeTexto)"
      ],
      "execution_count": null,
      "outputs": []
    },
    {
      "cell_type": "code",
      "metadata": {
        "id": "631nNkdPj16j"
      },
      "source": [
        "# x - classificador\n",
        "# y - classe\n",
        "\n",
        "x = np.array(vetoresDeTexto)\n",
        "y = np.array(artista)\n",
        "\n",
        "porcentagem = 0.8"
      ],
      "execution_count": null,
      "outputs": []
    },
    {
      "cell_type": "code",
      "metadata": {
        "id": "zY_FSdwRefee"
      },
      "source": [
        "#definindo tamanho treino e validação\n",
        "tamanho_treino = int(porcentagem*len(y))\n",
        "tamanho_validacao = len(y) - tamanho_treino"
      ],
      "execution_count": null,
      "outputs": []
    },
    {
      "cell_type": "code",
      "metadata": {
        "id": "_mvr-iUQlrti"
      },
      "source": [
        "#dados de treino\n",
        "treino_dados = x[0:tamanho_treino]\n",
        "treino_marcacoes = y[0:tamanho_treino]"
      ],
      "execution_count": null,
      "outputs": []
    },
    {
      "cell_type": "code",
      "metadata": {
        "id": "HYAUwG_Yl2RB"
      },
      "source": [
        "#dados de validacao\n",
        "validacao_dados = x[tamanho_treino:]\n",
        "validacao_marcacoes = y[tamanho_treino:]"
      ],
      "execution_count": null,
      "outputs": []
    },
    {
      "cell_type": "code",
      "metadata": {
        "id": "Lsj9kxsKmD5G"
      },
      "source": [
        "#Criando a extrutura para treinamento \n",
        "def predict(nome, modelo, treino_dados, treino_marcacoes):\n",
        "    k = 10\n",
        "    scores = cross_val_score(modelo, treino_dados, treino_marcacoes, cv = k)\n",
        "    taxa_de_acerto = np.mean(scores)\n",
        "    msg = \"Taxa de acerto do {0}: {1}\".format(nome, taxa_de_acerto)\n",
        "    print(msg)"
      ],
      "execution_count": null,
      "outputs": []
    },
    {
      "cell_type": "code",
      "metadata": {
        "colab": {
          "base_uri": "https://localhost:8080/"
        },
        "id": "qlgQEvz5mQRe",
        "outputId": "64323ebf-ae49-4c78-9e3f-1424beb1a660"
      },
      "source": [
        "#Utilizando o classificador OneVsRest\n",
        "modeloOneVsRest = OneVsRestClassifier(LinearSVC(random_state = 0, max_iter=10000))\n",
        "resultadoOneVsRest = predict(\"OneVsRest\", modeloOneVsRest, treino_dados, treino_marcacoes)"
      ],
      "execution_count": null,
      "outputs": [
        {
          "output_type": "stream",
          "text": [
            "Taxa de acerto do OneVsRest: 0.6112078977932637\n"
          ],
          "name": "stdout"
        }
      ]
    },
    {
      "cell_type": "markdown",
      "metadata": {
        "id": "BRKf5dRo1Vnw"
      },
      "source": [
        "> O algoritmo foi escrito dessa forma para que, se necessário, possa ser integrado um outro algoritmo de ML e comparar os valors."
      ]
    }
  ]
}