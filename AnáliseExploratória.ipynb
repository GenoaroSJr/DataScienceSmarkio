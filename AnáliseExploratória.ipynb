{
  "nbformat": 4,
  "nbformat_minor": 0,
  "metadata": {
    "colab": {
      "name": "AnáliseExploratória.ipynb",
      "provenance": [],
      "collapsed_sections": [],
      "authorship_tag": "ABX9TyNK3RHs+azK2IX2yWquleMv",
      "include_colab_link": true
    },
    "kernelspec": {
      "name": "python3",
      "display_name": "Python 3"
    }
  },
  "cells": [
    {
      "cell_type": "markdown",
      "metadata": {
        "id": "view-in-github",
        "colab_type": "text"
      },
      "source": [
        "<a href=\"https://colab.research.google.com/github/GenoaroSJr/DataScienceSmarkio/blob/main/An%C3%A1liseExplorat%C3%B3ria.ipynb\" target=\"_parent\"><img src=\"https://colab.research.google.com/assets/colab-badge.svg\" alt=\"Open In Colab\"/></a>"
      ]
    },
    {
      "cell_type": "markdown",
      "metadata": {
        "id": "P9EqPA7jFOYU"
      },
      "source": [
        "# Importação de bibliotecas"
      ]
    },
    {
      "cell_type": "code",
      "metadata": {
        "id": "BmPkuYrNoZx3"
      },
      "source": [
        "from google.colab import drive\n",
        "import pandas as pd\n",
        "import seaborn as sns\n",
        "import numpy as np\n",
        "from matplotlib import pyplot as plt"
      ],
      "execution_count": 3,
      "outputs": []
    },
    {
      "cell_type": "markdown",
      "metadata": {
        "id": "IUfp_VjyD9-o"
      },
      "source": [
        "# Import e tratamento dos dados\n",
        "\n",
        "Nessa seção, foram importados os dados necessários para a análise estatistica descritica e inferencial. Para que fossem melhor aplicados posteriormente, criou-se um novo documento \"df_sort\", onde as classes são organizadas de forma crescente.\n"
      ]
    },
    {
      "cell_type": "code",
      "metadata": {
        "colab": {
          "base_uri": "https://localhost:8080/"
        },
        "id": "Why2f9-QocRw",
        "outputId": "ead31220-c220-435b-d4a2-d8b49ab45fa8"
      },
      "source": [
        "drive.mount(\"/content/drive/\")\n",
        "df = pd.read_excel(\"/content/drive/MyDrive/teste_smarkio_Lbs.xls\")\n",
        "df_sort = pd.read_csv(\"/content/drive/MyDrive/Smarkio/Tabela_sort.csv\")\n",
        "#df.sort_values(by=['Pred_class']).to_csv(\"/content/drive/MyDrive/Smarkio/Tabela_sort.csv\")"
      ],
      "execution_count": 4,
      "outputs": [
        {
          "output_type": "stream",
          "text": [
            "Mounted at /content/drive/\n"
          ],
          "name": "stdout"
        }
      ]
    },
    {
      "cell_type": "code",
      "metadata": {
        "colab": {
          "base_uri": "https://localhost:8080/",
          "height": 204
        },
        "id": "7NVuiEzZFzpM",
        "outputId": "261f85ef-8679-4f6c-bbee-e18340c49272"
      },
      "source": [
        "df.head(5) #mostrando a tabela original disponibilizada pela Smarkio"
      ],
      "execution_count": 5,
      "outputs": [
        {
          "output_type": "execute_result",
          "data": {
            "text/html": [
              "<div>\n",
              "<style scoped>\n",
              "    .dataframe tbody tr th:only-of-type {\n",
              "        vertical-align: middle;\n",
              "    }\n",
              "\n",
              "    .dataframe tbody tr th {\n",
              "        vertical-align: top;\n",
              "    }\n",
              "\n",
              "    .dataframe thead th {\n",
              "        text-align: right;\n",
              "    }\n",
              "</style>\n",
              "<table border=\"1\" class=\"dataframe\">\n",
              "  <thead>\n",
              "    <tr style=\"text-align: right;\">\n",
              "      <th></th>\n",
              "      <th>Pred_class</th>\n",
              "      <th>probabilidade</th>\n",
              "      <th>status</th>\n",
              "      <th>True_class</th>\n",
              "    </tr>\n",
              "  </thead>\n",
              "  <tbody>\n",
              "    <tr>\n",
              "      <th>0</th>\n",
              "      <td>2</td>\n",
              "      <td>0.079892</td>\n",
              "      <td>approved</td>\n",
              "      <td>0.0</td>\n",
              "    </tr>\n",
              "    <tr>\n",
              "      <th>1</th>\n",
              "      <td>2</td>\n",
              "      <td>0.379377</td>\n",
              "      <td>approved</td>\n",
              "      <td>74.0</td>\n",
              "    </tr>\n",
              "    <tr>\n",
              "      <th>2</th>\n",
              "      <td>2</td>\n",
              "      <td>0.379377</td>\n",
              "      <td>approved</td>\n",
              "      <td>74.0</td>\n",
              "    </tr>\n",
              "    <tr>\n",
              "      <th>3</th>\n",
              "      <td>2</td>\n",
              "      <td>0.420930</td>\n",
              "      <td>approved</td>\n",
              "      <td>74.0</td>\n",
              "    </tr>\n",
              "    <tr>\n",
              "      <th>4</th>\n",
              "      <td>2</td>\n",
              "      <td>0.607437</td>\n",
              "      <td>approved</td>\n",
              "      <td>NaN</td>\n",
              "    </tr>\n",
              "  </tbody>\n",
              "</table>\n",
              "</div>"
            ],
            "text/plain": [
              "   Pred_class  probabilidade    status  True_class\n",
              "0           2       0.079892  approved         0.0\n",
              "1           2       0.379377  approved        74.0\n",
              "2           2       0.379377  approved        74.0\n",
              "3           2       0.420930  approved        74.0\n",
              "4           2       0.607437  approved         NaN"
            ]
          },
          "metadata": {
            "tags": []
          },
          "execution_count": 5
        }
      ]
    },
    {
      "cell_type": "markdown",
      "metadata": {
        "id": "ABPupN40EyqG"
      },
      "source": [
        "> Como so dados da coluna \"True_class\" estão incompletos (há valores \"NaN\"), vamos trata-los para que os dados possam tormar uma forma mais consistetente.\n",
        "\n",
        "Obs: Aqui, iremos reconstruir a coluna \"True_class\" com os dados verdadeiros. Lembrando que se a classe True_class é nula, então o modelo acertou, portanto, iremos assumir a \"Pred_class\"."
      ]
    },
    {
      "cell_type": "markdown",
      "metadata": {
        "id": "F977q9QXIGyy"
      },
      "source": [
        "> Aqui iremos tratar os dados para mostrar na \"Pred_class\" se o modelo acertou ou errou a predição. Portanto, iremos descreve-lo como **0** se **errou** e como **1** se **acertou**"
      ]
    },
    {
      "cell_type": "code",
      "metadata": {
        "id": "DwBvhlGyodub",
        "colab": {
          "base_uri": "https://localhost:8080/"
        },
        "outputId": "632a6538-d26d-4446-8c25-c30c4f2de998"
      },
      "source": [
        "x = len(df)\n",
        "\n",
        "Truee = df['True_class']\n",
        "Pred = df['Pred_class']\n",
        "\n",
        "for i in range(x):\n",
        "  if (Truee[i] >= 0):\n",
        "    ...\n",
        "  else:\n",
        "    Truee[i] = Pred[i]"
      ],
      "execution_count": 6,
      "outputs": [
        {
          "output_type": "stream",
          "text": [
            "/usr/local/lib/python3.6/dist-packages/ipykernel_launcher.py:10: SettingWithCopyWarning: \n",
            "A value is trying to be set on a copy of a slice from a DataFrame\n",
            "\n",
            "See the caveats in the documentation: https://pandas.pydata.org/pandas-docs/stable/user_guide/indexing.html#returning-a-view-versus-a-copy\n",
            "  # Remove the CWD from sys.path while we load stuff.\n"
          ],
          "name": "stderr"
        }
      ]
    },
    {
      "cell_type": "code",
      "metadata": {
        "colab": {
          "base_uri": "https://localhost:8080/",
          "height": 204
        },
        "id": "zro9ebwbuZRj",
        "outputId": "0df8dff9-6509-442c-aa76-e9f567c6fb84"
      },
      "source": [
        "Tabela_dados = df.drop(columns=['status'])\n",
        "Tabela_dados.head()"
      ],
      "execution_count": 7,
      "outputs": [
        {
          "output_type": "execute_result",
          "data": {
            "text/html": [
              "<div>\n",
              "<style scoped>\n",
              "    .dataframe tbody tr th:only-of-type {\n",
              "        vertical-align: middle;\n",
              "    }\n",
              "\n",
              "    .dataframe tbody tr th {\n",
              "        vertical-align: top;\n",
              "    }\n",
              "\n",
              "    .dataframe thead th {\n",
              "        text-align: right;\n",
              "    }\n",
              "</style>\n",
              "<table border=\"1\" class=\"dataframe\">\n",
              "  <thead>\n",
              "    <tr style=\"text-align: right;\">\n",
              "      <th></th>\n",
              "      <th>Pred_class</th>\n",
              "      <th>probabilidade</th>\n",
              "      <th>True_class</th>\n",
              "    </tr>\n",
              "  </thead>\n",
              "  <tbody>\n",
              "    <tr>\n",
              "      <th>0</th>\n",
              "      <td>2</td>\n",
              "      <td>0.079892</td>\n",
              "      <td>0.0</td>\n",
              "    </tr>\n",
              "    <tr>\n",
              "      <th>1</th>\n",
              "      <td>2</td>\n",
              "      <td>0.379377</td>\n",
              "      <td>74.0</td>\n",
              "    </tr>\n",
              "    <tr>\n",
              "      <th>2</th>\n",
              "      <td>2</td>\n",
              "      <td>0.379377</td>\n",
              "      <td>74.0</td>\n",
              "    </tr>\n",
              "    <tr>\n",
              "      <th>3</th>\n",
              "      <td>2</td>\n",
              "      <td>0.420930</td>\n",
              "      <td>74.0</td>\n",
              "    </tr>\n",
              "    <tr>\n",
              "      <th>4</th>\n",
              "      <td>2</td>\n",
              "      <td>0.607437</td>\n",
              "      <td>2.0</td>\n",
              "    </tr>\n",
              "  </tbody>\n",
              "</table>\n",
              "</div>"
            ],
            "text/plain": [
              "   Pred_class  probabilidade  True_class\n",
              "0           2       0.079892         0.0\n",
              "1           2       0.379377        74.0\n",
              "2           2       0.379377        74.0\n",
              "3           2       0.420930        74.0\n",
              "4           2       0.607437         2.0"
            ]
          },
          "metadata": {
            "tags": []
          },
          "execution_count": 7
        }
      ]
    },
    {
      "cell_type": "code",
      "metadata": {
        "colab": {
          "base_uri": "https://localhost:8080/"
        },
        "id": "nqQ6Z4bW4jST",
        "outputId": "b2e3357f-cde4-480d-8720-83d824d125ed"
      },
      "source": [
        "tamanho = len(Tabela_dados)\n",
        "for i in range(tamanho):\n",
        "  if (Truee[i] != Pred[i]):\n",
        "    Pred[i] = 0;\n",
        "  else: \n",
        "    Pred[i] = 1\n",
        "print(df)"
      ],
      "execution_count": 8,
      "outputs": [
        {
          "output_type": "stream",
          "text": [
            "     Pred_class  probabilidade    status  True_class\n",
            "0             0       0.079892  approved         0.0\n",
            "1             0       0.379377  approved        74.0\n",
            "2             0       0.379377  approved        74.0\n",
            "3             0       0.420930  approved        74.0\n",
            "4             1       0.607437  approved         2.0\n",
            "..          ...            ...       ...         ...\n",
            "595           1       0.432421  approved        74.0\n",
            "596           1       0.590576  approved        82.0\n",
            "597           1       0.915543  approved        92.0\n",
            "598           1       0.334495  approved        96.0\n",
            "599           0       0.373226  approved        22.0\n",
            "\n",
            "[600 rows x 4 columns]\n"
          ],
          "name": "stdout"
        },
        {
          "output_type": "stream",
          "text": [
            "/usr/local/lib/python3.6/dist-packages/ipykernel_launcher.py:4: SettingWithCopyWarning: \n",
            "A value is trying to be set on a copy of a slice from a DataFrame\n",
            "\n",
            "See the caveats in the documentation: https://pandas.pydata.org/pandas-docs/stable/user_guide/indexing.html#returning-a-view-versus-a-copy\n",
            "  after removing the cwd from sys.path.\n",
            "/usr/local/lib/python3.6/dist-packages/ipykernel_launcher.py:6: SettingWithCopyWarning: \n",
            "A value is trying to be set on a copy of a slice from a DataFrame\n",
            "\n",
            "See the caveats in the documentation: https://pandas.pydata.org/pandas-docs/stable/user_guide/indexing.html#returning-a-view-versus-a-copy\n",
            "  \n"
          ],
          "name": "stderr"
        }
      ]
    },
    {
      "cell_type": "code",
      "metadata": {
        "id": "Nu-MNI3oHhdD"
      },
      "source": [
        "#Salvando os dados já tratados\r\n",
        "df.to_csv(\"/content/drive/MyDrive/Smarkio/df_tratado.csv\")"
      ],
      "execution_count": 9,
      "outputs": []
    },
    {
      "cell_type": "markdown",
      "metadata": {
        "id": "0kYEuOT3ukuO"
      },
      "source": [
        "# Análise descritiva e inferencial\n",
        "\n",
        "Agora que os dados foram tratados, pode-se dar início a análise própriamente dita.\n",
        "\n",
        "Para cada gráfico plotado, irá será feito uma análise descritiva."
      ]
    },
    {
      "cell_type": "code",
      "metadata": {
        "id": "jcV2sjjgYE4o"
      },
      "source": [
        "Lista_valores_trueClass = Tabela_dados['True_class']\n",
        "Lista_valores_trueClass = np.array(Lista_valores_trueClass)\n",
        "Lista_valores_trueClass.sort()\n",
        "Lista_valores_trueClass = np.array(Lista_valores_trueClass).tolist()"
      ],
      "execution_count": 10,
      "outputs": []
    },
    {
      "cell_type": "code",
      "metadata": {
        "id": "x7cTwxZ8aHJA"
      },
      "source": [
        "Lista_valores_set = set(Lista_valores_trueClass)\n",
        "Lista_valores_set = list(Lista_valores_set)"
      ],
      "execution_count": 11,
      "outputs": []
    },
    {
      "cell_type": "code",
      "metadata": {
        "colab": {
          "base_uri": "https://localhost:8080/"
        },
        "id": "DiAi1XPdcSK5",
        "outputId": "5c0c0c43-73fc-4347-cace-e8fb4214f219"
      },
      "source": [
        "quantidade = []\n",
        "for i in range(len(Lista_valores_set)):\n",
        "  quantidade.append(Lista_valores_trueClass.count(Lista_valores_set[i]))\n",
        "print(quantidade)"
      ],
      "execution_count": 12,
      "outputs": [
        {
          "output_type": "stream",
          "text": [
            "[54, 58, 57, 18, 3, 6, 3, 7, 5, 10, 11, 7, 2, 1, 7, 3, 3, 2, 9, 1, 1, 4, 6, 2, 13, 3, 2, 1, 24, 5, 2, 2, 1, 2, 1, 4, 2, 78, 10, 26, 3, 7, 8, 5, 10, 4, 6, 3, 2, 2, 1, 1, 19, 7, 10, 1, 8, 6, 1, 1, 1, 10, 11, 1, 3, 5, 3, 3, 2]\n"
          ],
          "name": "stdout"
        }
      ]
    },
    {
      "cell_type": "code",
      "metadata": {
        "colab": {
          "base_uri": "https://localhost:8080/",
          "height": 265
        },
        "id": "lv1n0aoujOHb",
        "outputId": "5febff2c-4164-4462-fcdf-31de73a83bd7"
      },
      "source": [
        "plt.bar(Lista_valores_set, quantidade)\r\n",
        "plt.show()"
      ],
      "execution_count": 13,
      "outputs": [
        {
          "output_type": "display_data",
          "data": {
            "image/png": "[encoded data removed]",
            "text/plain": [
              "<Figure size 432x288 with 1 Axes>"
            ]
          },
          "metadata": {
            "tags": [],
            "needs_background": "light"
          }
        }
      ]
    },
    {
      "cell_type": "markdown",
      "metadata": {
        "id": "4345TCMgSaMt"
      },
      "source": [
        "### Box Plot\r\n",
        "\r\n",
        "> Apesar de ser usado para identificar os outliers, o boxplot pode também ser usado para acompanhar a tendencia dos dados e, combinando o strip plot, podemos verificar de forma mais visual sua distribuição. \r\n",
        "\r\n",
        "Com relação ao gráfico plotado a seguir, podemos verificar que o algoritmo de ML tende a acertar mais quando sua probabilidade está acima de 40% (analisando apenas os acertos), no entanto, a densidade de erro do algoritmo está concentrado também em 40%. Os dados começam a ficar mais confiáveis acima de 60% de probabilidade.\r\n",
        "\r\n",
        "Vamos analisar os dados acima de 40%.\r\n",
        "  \r\n"
      ]
    },
    {
      "cell_type": "code",
      "metadata": {
        "colab": {
          "base_uri": "https://localhost:8080/",
          "height": 384
        },
        "id": "SVvbSf3rEJ28",
        "outputId": "48f78e85-bf96-4232-e15c-e61a1ca953d2"
      },
      "source": [
        "sns.catplot(x=\"Pred_class\", y=\"probabilidade\", kind=\"boxen\", data=df);\n",
        "sns.stripplot(x=\"Pred_class\", y=\"probabilidade\", data=df, color=\"blue\");"
      ],
      "execution_count": 14,
      "outputs": [
        {
          "output_type": "display_data",
          "data": {
            "image/png": "[encoded data removed]",
            "text/plain": [
              "<Figure size 360x360 with 1 Axes>"
            ]
          },
          "metadata": {
            "tags": [],
            "needs_background": "light"
          }
        }
      ]
    },
    {
      "cell_type": "code",
      "metadata": {
        "colab": {
          "base_uri": "https://localhost:8080/",
          "height": 419
        },
        "id": "C1ZwTSGLR7N2",
        "outputId": "89988e08-d9a0-4c30-8785-0b2ae8a77a33"
      },
      "source": [
        "#ordenar os dados segundo a probabilidade\r\n",
        "df_sort_probabilidade = df.sort_values(\"probabilidade\")\r\n",
        "df_sort_probabilidade.head(290)"
      ],
      "execution_count": 15,
      "outputs": [
        {
          "output_type": "execute_result",
          "data": {
            "text/html": [
              "<div>\n",
              "<style scoped>\n",
              "    .dataframe tbody tr th:only-of-type {\n",
              "        vertical-align: middle;\n",
              "    }\n",
              "\n",
              "    .dataframe tbody tr th {\n",
              "        vertical-align: top;\n",
              "    }\n",
              "\n",
              "    .dataframe thead th {\n",
              "        text-align: right;\n",
              "    }\n",
              "</style>\n",
              "<table border=\"1\" class=\"dataframe\">\n",
              "  <thead>\n",
              "    <tr style=\"text-align: right;\">\n",
              "      <th></th>\n",
              "      <th>Pred_class</th>\n",
              "      <th>probabilidade</th>\n",
              "      <th>status</th>\n",
              "      <th>True_class</th>\n",
              "    </tr>\n",
              "  </thead>\n",
              "  <tbody>\n",
              "    <tr>\n",
              "      <th>416</th>\n",
              "      <td>0</td>\n",
              "      <td>0.043858</td>\n",
              "      <td>approved</td>\n",
              "      <td>74.0</td>\n",
              "    </tr>\n",
              "    <tr>\n",
              "      <th>33</th>\n",
              "      <td>0</td>\n",
              "      <td>0.054040</td>\n",
              "      <td>approved</td>\n",
              "      <td>0.0</td>\n",
              "    </tr>\n",
              "    <tr>\n",
              "      <th>337</th>\n",
              "      <td>1</td>\n",
              "      <td>0.056703</td>\n",
              "      <td>approved</td>\n",
              "      <td>74.0</td>\n",
              "    </tr>\n",
              "    <tr>\n",
              "      <th>308</th>\n",
              "      <td>0</td>\n",
              "      <td>0.057740</td>\n",
              "      <td>approved</td>\n",
              "      <td>0.0</td>\n",
              "    </tr>\n",
              "    <tr>\n",
              "      <th>309</th>\n",
              "      <td>0</td>\n",
              "      <td>0.057740</td>\n",
              "      <td>approved</td>\n",
              "      <td>0.0</td>\n",
              "    </tr>\n",
              "    <tr>\n",
              "      <th>...</th>\n",
              "      <td>...</td>\n",
              "      <td>...</td>\n",
              "      <td>...</td>\n",
              "      <td>...</td>\n",
              "    </tr>\n",
              "    <tr>\n",
              "      <th>415</th>\n",
              "      <td>1</td>\n",
              "      <td>0.600338</td>\n",
              "      <td>approved</td>\n",
              "      <td>116.0</td>\n",
              "    </tr>\n",
              "    <tr>\n",
              "      <th>582</th>\n",
              "      <td>1</td>\n",
              "      <td>0.601802</td>\n",
              "      <td>approved</td>\n",
              "      <td>118.0</td>\n",
              "    </tr>\n",
              "    <tr>\n",
              "      <th>182</th>\n",
              "      <td>1</td>\n",
              "      <td>0.602205</td>\n",
              "      <td>approved</td>\n",
              "      <td>3.0</td>\n",
              "    </tr>\n",
              "    <tr>\n",
              "      <th>26</th>\n",
              "      <td>0</td>\n",
              "      <td>0.603446</td>\n",
              "      <td>approved</td>\n",
              "      <td>85.0</td>\n",
              "    </tr>\n",
              "    <tr>\n",
              "      <th>4</th>\n",
              "      <td>1</td>\n",
              "      <td>0.607437</td>\n",
              "      <td>approved</td>\n",
              "      <td>2.0</td>\n",
              "    </tr>\n",
              "  </tbody>\n",
              "</table>\n",
              "<p>290 rows × 4 columns</p>\n",
              "</div>"
            ],
            "text/plain": [
              "     Pred_class  probabilidade    status  True_class\n",
              "416           0       0.043858  approved        74.0\n",
              "33            0       0.054040  approved         0.0\n",
              "337           1       0.056703  approved        74.0\n",
              "308           0       0.057740  approved         0.0\n",
              "309           0       0.057740  approved         0.0\n",
              "..          ...            ...       ...         ...\n",
              "415           1       0.600338  approved       116.0\n",
              "582           1       0.601802  approved       118.0\n",
              "182           1       0.602205  approved         3.0\n",
              "26            0       0.603446  approved        85.0\n",
              "4             1       0.607437  approved         2.0\n",
              "\n",
              "[290 rows x 4 columns]"
            ]
          },
          "metadata": {
            "tags": []
          },
          "execution_count": 15
        }
      ]
    },
    {
      "cell_type": "code",
      "metadata": {
        "id": "Ue9ddTm3XIpO"
      },
      "source": [
        "#salvando os dados em um outra tabela:\r\n",
        "df_sort_probabilidade.to_csv(\"/content/drive/MyDrive/Smarkio/df_sort_probabilidade.csv\")"
      ],
      "execution_count": 16,
      "outputs": []
    },
    {
      "cell_type": "markdown",
      "metadata": {
        "id": "KWs6_kNoYlpY"
      },
      "source": [
        "Verificando o arquivo, vemos que a probabilidade acima de 40% está depois do índice 137. Para a próxima verificação, vamos olhar os dados acima de 60%, índice a partir de 287"
      ]
    },
    {
      "cell_type": "code",
      "metadata": {
        "colab": {
          "base_uri": "https://localhost:8080/"
        },
        "id": "jV9c9YfvYYWv",
        "outputId": "00b1101d-cf8f-4722-cc7c-746708575177"
      },
      "source": [
        "#dados acima de 40% e abaixo de 60%\r\n",
        "acima_40 = df_sort_probabilidade.iloc[137:286,:]\r\n",
        "#acima_40.info()\r\n",
        "#dados acima de 60%\r\n",
        "acima_60 = df_sort_probabilidade.iloc[287:,]\r\n",
        "#acima_60.info()\r\n",
        "#acima de 40%\r\n",
        "acima = df_sort_probabilidade.iloc[137:,]\r\n",
        "acima.info()\r\n",
        "#print(acima_40)\r\n",
        "#print(acima_60)"
      ],
      "execution_count": 17,
      "outputs": [
        {
          "output_type": "stream",
          "text": [
            "<class 'pandas.core.frame.DataFrame'>\n",
            "Int64Index: 463 entries, 512 to 267\n",
            "Data columns (total 4 columns):\n",
            " #   Column         Non-Null Count  Dtype  \n",
            "---  ------         --------------  -----  \n",
            " 0   Pred_class     463 non-null    int64  \n",
            " 1   probabilidade  463 non-null    float64\n",
            " 2   status         463 non-null    object \n",
            " 3   True_class     463 non-null    float64\n",
            "dtypes: float64(2), int64(1), object(1)\n",
            "memory usage: 18.1+ KB\n"
          ],
          "name": "stdout"
        }
      ]
    },
    {
      "cell_type": "markdown",
      "metadata": {
        "id": "KIRqfuaLZeZP"
      },
      "source": [
        "### Gráfico de barras\r\n",
        "\r\n",
        "Neste ponto, com o gráfico de barras, pode-se quantificar os erros e acertos do algorítmo, tendo como base os valores acima de 40% e abaixo de 60%, os valores acima de 60% e os valores acima de 40%. A intenssão é poder quatificar, de forma empírica, uma margem segura de confiabilidade do algoritmo."
      ]
    },
    {
      "cell_type": "code",
      "metadata": {
        "colab": {
          "base_uri": "https://localhost:8080/",
          "height": 384
        },
        "id": "CAUv_ETCZOUK",
        "outputId": "2f3352cc-370e-4cee-b6db-0d77ef93061d"
      },
      "source": [
        "#Para valores acima de 40% e abaixo de 60%\r\n",
        "sns.catplot(x=\"Pred_class\", kind=\"count\", palette=\"Set2\", data=acima_40);"
      ],
      "execution_count": 18,
      "outputs": [
        {
          "output_type": "display_data",
          "data": {
            "image/png": "[encoded data removed]",
            "text/plain": [
              "<Figure size 360x360 with 1 Axes>"
            ]
          },
          "metadata": {
            "tags": [],
            "needs_background": "light"
          }
        }
      ]
    },
    {
      "cell_type": "code",
      "metadata": {
        "colab": {
          "base_uri": "https://localhost:8080/",
          "height": 384
        },
        "id": "8LbQuSeTaCSM",
        "outputId": "d67f75b5-be77-4d75-e61e-1e5e7cd0676c"
      },
      "source": [
        "#Para valores acima de 60%\r\n",
        "sns.catplot(x=\"Pred_class\", kind=\"count\", palette=\"Set2\", data=acima_60);"
      ],
      "execution_count": 19,
      "outputs": [
        {
          "output_type": "display_data",
          "data": {
            "image/png": "[encoded data removed]",
            "text/plain": [
              "<Figure size 360x360 with 1 Axes>"
            ]
          },
          "metadata": {
            "tags": [],
            "needs_background": "light"
          }
        }
      ]
    },
    {
      "cell_type": "code",
      "metadata": {
        "colab": {
          "base_uri": "https://localhost:8080/",
          "height": 384
        },
        "id": "axLQ7nmGaKkB",
        "outputId": "c95bd23c-f685-4404-e63b-3b1f3ec99df8"
      },
      "source": [
        "#Para valores acima de 40%\r\n",
        "sns.catplot(x=\"Pred_class\", kind=\"count\", palette=\"Set2\", data=acima);"
      ],
      "execution_count": 20,
      "outputs": [
        {
          "output_type": "display_data",
          "data": {
            "image/png": "[encoded data removed]",
            "text/plain": [
              "<Figure size 360x360 with 1 Axes>"
            ]
          },
          "metadata": {
            "tags": [],
            "needs_background": "light"
          }
        }
      ]
    },
    {
      "cell_type": "markdown",
      "metadata": {
        "id": "dMJYfpPHfChY"
      },
      "source": [
        "### Relação entre os dados.\r\n",
        "\r\n",
        "Por fim, vamos verificar a correlação entre as colunas do data frame para posteriormente escrever um algoritmo cross-validation k-fold de forma mais eficiente.\r\n",
        "\r\n",
        "Neste ponto, sabemos que existe uma alta relação entre a probabilidade e a Pred_class, queremos saber se há na tabela alguma outra correlação.\r\n",
        "\r\n",
        "> O gráfico de correlação mostra que, quanto mais clara a cor do gráfico maior será a correlação entre as colunas."
      ]
    },
    {
      "cell_type": "code",
      "metadata": {
        "colab": {
          "base_uri": "https://localhost:8080/",
          "height": 142
        },
        "id": "vI8KjBs9frY2",
        "outputId": "23b46406-c1ed-4c0a-91fd-15658ae063b6"
      },
      "source": [
        "correlacoes = df.corr()\r\n",
        "correlacoes"
      ],
      "execution_count": 21,
      "outputs": [
        {
          "output_type": "execute_result",
          "data": {
            "text/html": [
              "<div>\n",
              "<style scoped>\n",
              "    .dataframe tbody tr th:only-of-type {\n",
              "        vertical-align: middle;\n",
              "    }\n",
              "\n",
              "    .dataframe tbody tr th {\n",
              "        vertical-align: top;\n",
              "    }\n",
              "\n",
              "    .dataframe thead th {\n",
              "        text-align: right;\n",
              "    }\n",
              "</style>\n",
              "<table border=\"1\" class=\"dataframe\">\n",
              "  <thead>\n",
              "    <tr style=\"text-align: right;\">\n",
              "      <th></th>\n",
              "      <th>Pred_class</th>\n",
              "      <th>probabilidade</th>\n",
              "      <th>True_class</th>\n",
              "    </tr>\n",
              "  </thead>\n",
              "  <tbody>\n",
              "    <tr>\n",
              "      <th>Pred_class</th>\n",
              "      <td>1.000000</td>\n",
              "      <td>0.472416</td>\n",
              "      <td>0.172402</td>\n",
              "    </tr>\n",
              "    <tr>\n",
              "      <th>probabilidade</th>\n",
              "      <td>0.472416</td>\n",
              "      <td>1.000000</td>\n",
              "      <td>0.049030</td>\n",
              "    </tr>\n",
              "    <tr>\n",
              "      <th>True_class</th>\n",
              "      <td>0.172402</td>\n",
              "      <td>0.049030</td>\n",
              "      <td>1.000000</td>\n",
              "    </tr>\n",
              "  </tbody>\n",
              "</table>\n",
              "</div>"
            ],
            "text/plain": [
              "               Pred_class  probabilidade  True_class\n",
              "Pred_class       1.000000       0.472416    0.172402\n",
              "probabilidade    0.472416       1.000000    0.049030\n",
              "True_class       0.172402       0.049030    1.000000"
            ]
          },
          "metadata": {
            "tags": []
          },
          "execution_count": 21
        }
      ]
    },
    {
      "cell_type": "code",
      "metadata": {
        "colab": {
          "base_uri": "https://localhost:8080/",
          "height": 270
        },
        "id": "NcaQdvOKgnVt",
        "outputId": "1f330c41-a24f-447c-8d43-56c4eb341039"
      },
      "source": [
        "ax = sns.heatmap(correlacoes, annot=True)"
      ],
      "execution_count": 22,
      "outputs": [
        {
          "output_type": "display_data",
          "data": {
            "image/png": "[encoded data removed]",
            "text/plain": [
              "<Figure size 432x288 with 2 Axes>"
            ]
          },
          "metadata": {
            "tags": [],
            "needs_background": "light"
          }
        }
      ]
    },
    {
      "cell_type": "markdown",
      "metadata": {
        "id": "qT9vNqOlhRc5"
      },
      "source": [
        "Com isso, vemos que há uma correlação apenas entre o Pred_class e a probabilidade, correlação essa que já era nítida no começo da análise exploratória."
      ]
    }
  ]
}