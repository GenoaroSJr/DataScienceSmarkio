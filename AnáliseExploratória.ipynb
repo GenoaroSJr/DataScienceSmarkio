{
  "nbformat": 4,
  "nbformat_minor": 0,
  "metadata": {
    "colab": {
      "name": "AnáliseExploratória.ipynb",
      "provenance": [],
      "collapsed_sections": [],
      "authorship_tag": "ABX9TyPyLES90p/V7c8LulkRfDI5",
      "include_colab_link": true
    },
    "kernelspec": {
      "name": "python3",
      "display_name": "Python 3"
    }
  },
  "cells": [
    {
      "cell_type": "markdown",
      "metadata": {
        "id": "view-in-github",
        "colab_type": "text"
      },
      "source": [
        "<a href=\"https://colab.research.google.com/github/GenoaroSJr/DataScienceSmarkio/blob/main/An%C3%A1liseExplorat%C3%B3ria.ipynb\" target=\"_parent\"><img src=\"https://colab.research.google.com/assets/colab-badge.svg\" alt=\"Open In Colab\"/></a>"
      ]
    },
    {
      "cell_type": "markdown",
      "metadata": {
        "id": "P9EqPA7jFOYU"
      },
      "source": [
        "# Importação de bibliotecas"
      ]
    },
    {
      "cell_type": "code",
      "metadata": {
        "id": "BmPkuYrNoZx3"
      },
      "source": [
        "from google.colab import drive\n",
        "import pandas as pd\n",
        "import seaborn as sns\n",
        "import numpy as np\n",
        "from matplotlib import pyplot as plt"
      ],
      "execution_count": 2,
      "outputs": []
    },
    {
      "cell_type": "markdown",
      "metadata": {
        "id": "IUfp_VjyD9-o"
      },
      "source": [
        "# Import e tratamento dos dados\n",
        "\n",
        "Nessa seção, foram importados os dados necessários para a análise estatistica descritica e inferencial. para que fossem melhor aplicados posteriormente, criou-se um novo documento \"df_sort\", onde as classes são organizadas de forma crescente.\n"
      ]
    },
    {
      "cell_type": "code",
      "metadata": {
        "colab": {
          "base_uri": "https://localhost:8080/"
        },
        "id": "Why2f9-QocRw",
        "outputId": "cc1c8409-1b36-489d-8a04-64f6b441101a"
      },
      "source": [
        "drive.mount(\"/content/drive/\")\n",
        "df = pd.read_excel(\"/content/drive/MyDrive/teste_smarkio_Lbs.xls\")\n",
        "df_sort = pd.read_csv(\"/content/drive/MyDrive/Smarkio/Tabela_sort.csv\")\n",
        "#df.sort_values(by=['Pred_class']).to_csv(\"/content/drive/MyDrive/Smarkio/Tabela_sort.csv\")"
      ],
      "execution_count": 16,
      "outputs": [
        {
          "output_type": "stream",
          "text": [
            "Drive already mounted at /content/drive/; to attempt to forcibly remount, call drive.mount(\"/content/drive/\", force_remount=True).\n"
          ],
          "name": "stdout"
        }
      ]
    },
    {
      "cell_type": "code",
      "metadata": {
        "colab": {
          "base_uri": "https://localhost:8080/",
          "height": 204
        },
        "id": "7NVuiEzZFzpM",
        "outputId": "7dbb5216-73aa-462c-9a6b-b3393e2b5867"
      },
      "source": [
        "df.head(5) #mostrando a tabela original disponibilizada pela Smarkio"
      ],
      "execution_count": 17,
      "outputs": [
        {
          "output_type": "execute_result",
          "data": {
            "text/html": [
              "<div>\n",
              "<style scoped>\n",
              "    .dataframe tbody tr th:only-of-type {\n",
              "        vertical-align: middle;\n",
              "    }\n",
              "\n",
              "    .dataframe tbody tr th {\n",
              "        vertical-align: top;\n",
              "    }\n",
              "\n",
              "    .dataframe thead th {\n",
              "        text-align: right;\n",
              "    }\n",
              "</style>\n",
              "<table border=\"1\" class=\"dataframe\">\n",
              "  <thead>\n",
              "    <tr style=\"text-align: right;\">\n",
              "      <th></th>\n",
              "      <th>Pred_class</th>\n",
              "      <th>probabilidade</th>\n",
              "      <th>status</th>\n",
              "      <th>True_class</th>\n",
              "    </tr>\n",
              "  </thead>\n",
              "  <tbody>\n",
              "    <tr>\n",
              "      <th>0</th>\n",
              "      <td>2</td>\n",
              "      <td>0.079892</td>\n",
              "      <td>approved</td>\n",
              "      <td>0.0</td>\n",
              "    </tr>\n",
              "    <tr>\n",
              "      <th>1</th>\n",
              "      <td>2</td>\n",
              "      <td>0.379377</td>\n",
              "      <td>approved</td>\n",
              "      <td>74.0</td>\n",
              "    </tr>\n",
              "    <tr>\n",
              "      <th>2</th>\n",
              "      <td>2</td>\n",
              "      <td>0.379377</td>\n",
              "      <td>approved</td>\n",
              "      <td>74.0</td>\n",
              "    </tr>\n",
              "    <tr>\n",
              "      <th>3</th>\n",
              "      <td>2</td>\n",
              "      <td>0.420930</td>\n",
              "      <td>approved</td>\n",
              "      <td>74.0</td>\n",
              "    </tr>\n",
              "    <tr>\n",
              "      <th>4</th>\n",
              "      <td>2</td>\n",
              "      <td>0.607437</td>\n",
              "      <td>approved</td>\n",
              "      <td>NaN</td>\n",
              "    </tr>\n",
              "  </tbody>\n",
              "</table>\n",
              "</div>"
            ],
            "text/plain": [
              "   Pred_class  probabilidade    status  True_class\n",
              "0           2       0.079892  approved         0.0\n",
              "1           2       0.379377  approved        74.0\n",
              "2           2       0.379377  approved        74.0\n",
              "3           2       0.420930  approved        74.0\n",
              "4           2       0.607437  approved         NaN"
            ]
          },
          "metadata": {
            "tags": []
          },
          "execution_count": 17
        }
      ]
    },
    {
      "cell_type": "markdown",
      "metadata": {
        "id": "ABPupN40EyqG"
      },
      "source": [
        "> Como so dados da coluna \"True_class\" estão incompletos (há valores \"NaN\"), vamos trata-los para que os dados possam tormar uma forma mais consistetente.\n",
        "\n",
        "Obs: Aqui, iremos reconstruir a coluna \"True_class\" com os dados verdadeiros. Lembrando que se a classe True_class é nula, então o modelo acertou, portanto, iremos assumir a \"Pred_class\"."
      ]
    },
    {
      "cell_type": "markdown",
      "metadata": {
        "id": "F977q9QXIGyy"
      },
      "source": [
        "> Aqui iremos tratar os dados para mostrar na \"Pred_class\" se o modelo acertou ou errou a predição. Portanto, iremos descreve-lo como **0** se **errou** e como **1** se **acertou**"
      ]
    },
    {
      "cell_type": "code",
      "metadata": {
        "colab": {
          "base_uri": "https://localhost:8080/"
        },
        "id": "DwBvhlGyodub",
        "outputId": "db75b8fe-9e0a-47af-911c-8a8ee3e7f7dd"
      },
      "source": [
        "x = len(df)\n",
        "\n",
        "Truee = df['True_class']\n",
        "Pred = df['Pred_class']\n",
        "\n",
        "for i in range(x):\n",
        "  if (Truee[i] >= 0):\n",
        "    ...\n",
        "  else:\n",
        "    Truee[i] = Pred[i]"
      ],
      "execution_count": 18,
      "outputs": [
        {
          "output_type": "stream",
          "text": [
            "/usr/local/lib/python3.6/dist-packages/ipykernel_launcher.py:10: SettingWithCopyWarning: \n",
            "A value is trying to be set on a copy of a slice from a DataFrame\n",
            "\n",
            "See the caveats in the documentation: https://pandas.pydata.org/pandas-docs/stable/user_guide/indexing.html#returning-a-view-versus-a-copy\n",
            "  # Remove the CWD from sys.path while we load stuff.\n"
          ],
          "name": "stderr"
        }
      ]
    },
    {
      "cell_type": "code",
      "metadata": {
        "colab": {
          "base_uri": "https://localhost:8080/",
          "height": 204
        },
        "id": "zro9ebwbuZRj",
        "outputId": "fb8a6640-82bf-4921-f950-099fb73feaa7"
      },
      "source": [
        "Tabela_dados = df.drop(columns=['status'])\n",
        "Tabela_dados.head()"
      ],
      "execution_count": 19,
      "outputs": [
        {
          "output_type": "execute_result",
          "data": {
            "text/html": [
              "<div>\n",
              "<style scoped>\n",
              "    .dataframe tbody tr th:only-of-type {\n",
              "        vertical-align: middle;\n",
              "    }\n",
              "\n",
              "    .dataframe tbody tr th {\n",
              "        vertical-align: top;\n",
              "    }\n",
              "\n",
              "    .dataframe thead th {\n",
              "        text-align: right;\n",
              "    }\n",
              "</style>\n",
              "<table border=\"1\" class=\"dataframe\">\n",
              "  <thead>\n",
              "    <tr style=\"text-align: right;\">\n",
              "      <th></th>\n",
              "      <th>Pred_class</th>\n",
              "      <th>probabilidade</th>\n",
              "      <th>True_class</th>\n",
              "    </tr>\n",
              "  </thead>\n",
              "  <tbody>\n",
              "    <tr>\n",
              "      <th>0</th>\n",
              "      <td>2</td>\n",
              "      <td>0.079892</td>\n",
              "      <td>0.0</td>\n",
              "    </tr>\n",
              "    <tr>\n",
              "      <th>1</th>\n",
              "      <td>2</td>\n",
              "      <td>0.379377</td>\n",
              "      <td>74.0</td>\n",
              "    </tr>\n",
              "    <tr>\n",
              "      <th>2</th>\n",
              "      <td>2</td>\n",
              "      <td>0.379377</td>\n",
              "      <td>74.0</td>\n",
              "    </tr>\n",
              "    <tr>\n",
              "      <th>3</th>\n",
              "      <td>2</td>\n",
              "      <td>0.420930</td>\n",
              "      <td>74.0</td>\n",
              "    </tr>\n",
              "    <tr>\n",
              "      <th>4</th>\n",
              "      <td>2</td>\n",
              "      <td>0.607437</td>\n",
              "      <td>2.0</td>\n",
              "    </tr>\n",
              "  </tbody>\n",
              "</table>\n",
              "</div>"
            ],
            "text/plain": [
              "   Pred_class  probabilidade  True_class\n",
              "0           2       0.079892         0.0\n",
              "1           2       0.379377        74.0\n",
              "2           2       0.379377        74.0\n",
              "3           2       0.420930        74.0\n",
              "4           2       0.607437         2.0"
            ]
          },
          "metadata": {
            "tags": []
          },
          "execution_count": 19
        }
      ]
    },
    {
      "cell_type": "code",
      "metadata": {
        "colab": {
          "base_uri": "https://localhost:8080/",
          "height": 394
        },
        "id": "nqQ6Z4bW4jST",
        "outputId": "585d47ed-b147-473d-c43f-e5a5e433e6a3"
      },
      "source": [
        "tamanho = len(Tabela_dados)\n",
        "for i in range(tamanho):\n",
        "  if (Truee[i] != Pred[i]):\n",
        "    Pred[i] = 0;\n",
        "  else: \n",
        "    Pred[i] = 1\n",
        "df.head(5)"
      ],
      "execution_count": 20,
      "outputs": [
        {
          "output_type": "stream",
          "text": [
            "/usr/local/lib/python3.6/dist-packages/ipykernel_launcher.py:4: SettingWithCopyWarning: \n",
            "A value is trying to be set on a copy of a slice from a DataFrame\n",
            "\n",
            "See the caveats in the documentation: https://pandas.pydata.org/pandas-docs/stable/user_guide/indexing.html#returning-a-view-versus-a-copy\n",
            "  after removing the cwd from sys.path.\n",
            "/usr/local/lib/python3.6/dist-packages/ipykernel_launcher.py:6: SettingWithCopyWarning: \n",
            "A value is trying to be set on a copy of a slice from a DataFrame\n",
            "\n",
            "See the caveats in the documentation: https://pandas.pydata.org/pandas-docs/stable/user_guide/indexing.html#returning-a-view-versus-a-copy\n",
            "  \n"
          ],
          "name": "stderr"
        },
        {
          "output_type": "execute_result",
          "data": {
            "text/html": [
              "<div>\n",
              "<style scoped>\n",
              "    .dataframe tbody tr th:only-of-type {\n",
              "        vertical-align: middle;\n",
              "    }\n",
              "\n",
              "    .dataframe tbody tr th {\n",
              "        vertical-align: top;\n",
              "    }\n",
              "\n",
              "    .dataframe thead th {\n",
              "        text-align: right;\n",
              "    }\n",
              "</style>\n",
              "<table border=\"1\" class=\"dataframe\">\n",
              "  <thead>\n",
              "    <tr style=\"text-align: right;\">\n",
              "      <th></th>\n",
              "      <th>Pred_class</th>\n",
              "      <th>probabilidade</th>\n",
              "      <th>status</th>\n",
              "      <th>True_class</th>\n",
              "    </tr>\n",
              "  </thead>\n",
              "  <tbody>\n",
              "    <tr>\n",
              "      <th>0</th>\n",
              "      <td>0</td>\n",
              "      <td>0.079892</td>\n",
              "      <td>approved</td>\n",
              "      <td>0.0</td>\n",
              "    </tr>\n",
              "    <tr>\n",
              "      <th>1</th>\n",
              "      <td>0</td>\n",
              "      <td>0.379377</td>\n",
              "      <td>approved</td>\n",
              "      <td>74.0</td>\n",
              "    </tr>\n",
              "    <tr>\n",
              "      <th>2</th>\n",
              "      <td>0</td>\n",
              "      <td>0.379377</td>\n",
              "      <td>approved</td>\n",
              "      <td>74.0</td>\n",
              "    </tr>\n",
              "    <tr>\n",
              "      <th>3</th>\n",
              "      <td>0</td>\n",
              "      <td>0.420930</td>\n",
              "      <td>approved</td>\n",
              "      <td>74.0</td>\n",
              "    </tr>\n",
              "    <tr>\n",
              "      <th>4</th>\n",
              "      <td>1</td>\n",
              "      <td>0.607437</td>\n",
              "      <td>approved</td>\n",
              "      <td>2.0</td>\n",
              "    </tr>\n",
              "  </tbody>\n",
              "</table>\n",
              "</div>"
            ],
            "text/plain": [
              "   Pred_class  probabilidade    status  True_class\n",
              "0           0       0.079892  approved         0.0\n",
              "1           0       0.379377  approved        74.0\n",
              "2           0       0.379377  approved        74.0\n",
              "3           0       0.420930  approved        74.0\n",
              "4           1       0.607437  approved         2.0"
            ]
          },
          "metadata": {
            "tags": []
          },
          "execution_count": 20
        }
      ]
    },
    {
      "cell_type": "markdown",
      "metadata": {
        "id": "0kYEuOT3ukuO"
      },
      "source": [
        "# Análise descritiva e inferencial\n",
        "\n",
        "Agora que os dados foram tratados, pode-se dar início a análise própriamente dita.\n",
        "\n",
        "Para cada gráfico plotado, irá ser feito uma análise descritiva."
      ]
    },
    {
      "cell_type": "code",
      "metadata": {
        "id": "jcV2sjjgYE4o"
      },
      "source": [
        "Lista_valores_trueClass = Tabela_dados['True_class']\n",
        "Lista_valores_trueClass = np.array(Lista_valores_trueClass)\n",
        "Lista_valores_trueClass.sort()\n",
        "Lista_valores_trueClass = np.array(Lista_valores_trueClass).tolist()"
      ],
      "execution_count": 21,
      "outputs": []
    },
    {
      "cell_type": "code",
      "metadata": {
        "id": "x7cTwxZ8aHJA"
      },
      "source": [
        "Lista_valores_set = set(Lista_valores_trueClass)\n",
        "Lista_valores_set = list(Lista_valores_set)"
      ],
      "execution_count": 22,
      "outputs": []
    },
    {
      "cell_type": "code",
      "metadata": {
        "colab": {
          "base_uri": "https://localhost:8080/"
        },
        "id": "DiAi1XPdcSK5",
        "outputId": "17baf2ed-d677-4468-edc5-d626c07c972e"
      },
      "source": [
        "quantidade = []\n",
        "for i in range(len(Lista_valores_set)):\n",
        "  quantidade.append(Lista_valores_trueClass.count(Lista_valores_set[i]))\n",
        "print(quantidade)"
      ],
      "execution_count": 23,
      "outputs": [
        {
          "output_type": "stream",
          "text": [
            "[54, 58, 57, 18, 3, 6, 3, 7, 5, 10, 11, 7, 2, 1, 7, 3, 3, 2, 9, 1, 1, 4, 6, 2, 13, 3, 2, 1, 24, 5, 2, 2, 1, 2, 1, 4, 2, 78, 10, 26, 3, 7, 8, 5, 10, 4, 6, 3, 2, 2, 1, 1, 19, 7, 10, 1, 8, 6, 1, 1, 1, 10, 11, 1, 3, 5, 3, 3, 2]\n"
          ],
          "name": "stdout"
        }
      ]
    },
    {
      "cell_type": "markdown",
      "metadata": {
        "id": "4345TCMgSaMt"
      },
      "source": [
        "### Box Plot\r\n",
        "\r\n",
        "> Apesar de ser usado para identificar os outliers, o boxplot pode também ser usado para acompanhar a tendencia dos dados e, combinando o strip plot, podemos verificar de forma mais visual sua distribuição. \r\n",
        "\r\n",
        "Com relação ao gráfico plotado a seguir, podemos verificar que o algoritmo de ML tende a acertar mais quando sua probabilidade está acima de 40% (analisando apenas os acertos), no entanto, a densidade de erro do algoritmo está concentrado também em 40%. Os dados começam a ficar mais confiáveis acima de 60% de probabilidade.\r\n",
        "\r\n",
        "Vamos analisar os dados acima de 40%.\r\n",
        "  \r\n"
      ]
    },
    {
      "cell_type": "code",
      "metadata": {
        "colab": {
          "base_uri": "https://localhost:8080/",
          "height": 384
        },
        "id": "SVvbSf3rEJ28",
        "outputId": "0a9eb1aa-6ea5-4b42-9744-8ea92dae858f"
      },
      "source": [
        "sns.catplot(x=\"Pred_class\", y=\"probabilidade\", kind=\"boxen\", data=df);\n",
        "sns.stripplot(x=\"Pred_class\", y=\"probabilidade\", data=df, color=\"blue\");"
      ],
      "execution_count": 27,
      "outputs": [
        {
          "output_type": "display_data",
          "data": {
            "image/png": "[encoded data removed]",
            "text/plain": [
              "<Figure size 360x360 with 1 Axes>"
            ]
          },
          "metadata": {
            "tags": [],
            "needs_background": "light"
          }
        }
      ]
    },
    {
      "cell_type": "code",
      "metadata": {
        "colab": {
          "base_uri": "https://localhost:8080/",
          "height": 419
        },
        "id": "C1ZwTSGLR7N2",
        "outputId": "10c72401-972e-48a9-da7b-8c9635bd7327"
      },
      "source": [
        "#ordenar os dados segundo a probabilidade\r\n",
        "df_sort_probabilidade = df.sort_values(\"probabilidade\")\r\n",
        "df_sort_probabilidade.head(290)"
      ],
      "execution_count": 45,
      "outputs": [
        {
          "output_type": "execute_result",
          "data": {
            "text/html": [
              "<div>\n",
              "<style scoped>\n",
              "    .dataframe tbody tr th:only-of-type {\n",
              "        vertical-align: middle;\n",
              "    }\n",
              "\n",
              "    .dataframe tbody tr th {\n",
              "        vertical-align: top;\n",
              "    }\n",
              "\n",
              "    .dataframe thead th {\n",
              "        text-align: right;\n",
              "    }\n",
              "</style>\n",
              "<table border=\"1\" class=\"dataframe\">\n",
              "  <thead>\n",
              "    <tr style=\"text-align: right;\">\n",
              "      <th></th>\n",
              "      <th>Pred_class</th>\n",
              "      <th>probabilidade</th>\n",
              "      <th>status</th>\n",
              "      <th>True_class</th>\n",
              "    </tr>\n",
              "  </thead>\n",
              "  <tbody>\n",
              "    <tr>\n",
              "      <th>416</th>\n",
              "      <td>0</td>\n",
              "      <td>0.043858</td>\n",
              "      <td>approved</td>\n",
              "      <td>74.0</td>\n",
              "    </tr>\n",
              "    <tr>\n",
              "      <th>33</th>\n",
              "      <td>0</td>\n",
              "      <td>0.054040</td>\n",
              "      <td>approved</td>\n",
              "      <td>0.0</td>\n",
              "    </tr>\n",
              "    <tr>\n",
              "      <th>337</th>\n",
              "      <td>1</td>\n",
              "      <td>0.056703</td>\n",
              "      <td>approved</td>\n",
              "      <td>74.0</td>\n",
              "    </tr>\n",
              "    <tr>\n",
              "      <th>308</th>\n",
              "      <td>0</td>\n",
              "      <td>0.057740</td>\n",
              "      <td>approved</td>\n",
              "      <td>0.0</td>\n",
              "    </tr>\n",
              "    <tr>\n",
              "      <th>309</th>\n",
              "      <td>0</td>\n",
              "      <td>0.057740</td>\n",
              "      <td>approved</td>\n",
              "      <td>0.0</td>\n",
              "    </tr>\n",
              "    <tr>\n",
              "      <th>...</th>\n",
              "      <td>...</td>\n",
              "      <td>...</td>\n",
              "      <td>...</td>\n",
              "      <td>...</td>\n",
              "    </tr>\n",
              "    <tr>\n",
              "      <th>415</th>\n",
              "      <td>1</td>\n",
              "      <td>0.600338</td>\n",
              "      <td>approved</td>\n",
              "      <td>116.0</td>\n",
              "    </tr>\n",
              "    <tr>\n",
              "      <th>582</th>\n",
              "      <td>1</td>\n",
              "      <td>0.601802</td>\n",
              "      <td>approved</td>\n",
              "      <td>118.0</td>\n",
              "    </tr>\n",
              "    <tr>\n",
              "      <th>182</th>\n",
              "      <td>1</td>\n",
              "      <td>0.602205</td>\n",
              "      <td>approved</td>\n",
              "      <td>3.0</td>\n",
              "    </tr>\n",
              "    <tr>\n",
              "      <th>26</th>\n",
              "      <td>0</td>\n",
              "      <td>0.603446</td>\n",
              "      <td>approved</td>\n",
              "      <td>85.0</td>\n",
              "    </tr>\n",
              "    <tr>\n",
              "      <th>4</th>\n",
              "      <td>1</td>\n",
              "      <td>0.607437</td>\n",
              "      <td>approved</td>\n",
              "      <td>2.0</td>\n",
              "    </tr>\n",
              "  </tbody>\n",
              "</table>\n",
              "<p>290 rows × 4 columns</p>\n",
              "</div>"
            ],
            "text/plain": [
              "     Pred_class  probabilidade    status  True_class\n",
              "416           0       0.043858  approved        74.0\n",
              "33            0       0.054040  approved         0.0\n",
              "337           1       0.056703  approved        74.0\n",
              "308           0       0.057740  approved         0.0\n",
              "309           0       0.057740  approved         0.0\n",
              "..          ...            ...       ...         ...\n",
              "415           1       0.600338  approved       116.0\n",
              "582           1       0.601802  approved       118.0\n",
              "182           1       0.602205  approved         3.0\n",
              "26            0       0.603446  approved        85.0\n",
              "4             1       0.607437  approved         2.0\n",
              "\n",
              "[290 rows x 4 columns]"
            ]
          },
          "metadata": {
            "tags": []
          },
          "execution_count": 45
        }
      ]
    },
    {
      "cell_type": "code",
      "metadata": {
        "id": "Ue9ddTm3XIpO"
      },
      "source": [
        "#salvando os dados em um outra tabela:\r\n",
        "df_sort_probabilidade.to_csv(\"/content/drive/MyDrive/Smarkio/df_sort_probabilidade.csv\")"
      ],
      "execution_count": 46,
      "outputs": []
    },
    {
      "cell_type": "markdown",
      "metadata": {
        "id": "KWs6_kNoYlpY"
      },
      "source": [
        "Verificando o arquivo, vemos que a probabilidade acima de 40% está depois do índice 137. Para a próxima verificação, vamos olhar os dados acima de 60%, índice a partir de 287"
      ]
    },
    {
      "cell_type": "code",
      "metadata": {
        "colab": {
          "base_uri": "https://localhost:8080/"
        },
        "id": "jV9c9YfvYYWv",
        "outputId": "e59f6157-c313-4833-dd39-b428e0182c53"
      },
      "source": [
        "#dados acima de 40% e abaixo de 60%\r\n",
        "acima_40 = df_sort_probabilidade.iloc[137:286,:]\r\n",
        "#acima_40.info()\r\n",
        "#dados acima de 60%\r\n",
        "acima_60 = df_sort_probabilidade.iloc[287:,]\r\n",
        "#acima_60.info()\r\n",
        "#acima de 40%\r\n",
        "acima = df_sort_probabilidade.iloc[137:,]\r\n",
        "acima.info()\r\n",
        "#print(acima_40)\r\n",
        "#print(acima_60)"
      ],
      "execution_count": 65,
      "outputs": [
        {
          "output_type": "stream",
          "text": [
            "<class 'pandas.core.frame.DataFrame'>\n",
            "Int64Index: 463 entries, 512 to 267\n",
            "Data columns (total 4 columns):\n",
            " #   Column         Non-Null Count  Dtype  \n",
            "---  ------         --------------  -----  \n",
            " 0   Pred_class     463 non-null    int64  \n",
            " 1   probabilidade  463 non-null    float64\n",
            " 2   status         463 non-null    object \n",
            " 3   True_class     463 non-null    float64\n",
            "dtypes: float64(2), int64(1), object(1)\n",
            "memory usage: 18.1+ KB\n"
          ],
          "name": "stdout"
        }
      ]
    },
    {
      "cell_type": "markdown",
      "metadata": {
        "id": "KIRqfuaLZeZP"
      },
      "source": [
        "### Gráfico de barras\r\n",
        "\r\n",
        "Neste ponto, com o gráfico de barras, pode-se quantificar os erros e acertos do algorítmo, tendo como base os valores acima de 40% e abaixo de 60%, os valores acima de 60% e os valores acima de 40%. A intenssão é poder quatificar, de forma empírica, uma margem segura de confiabilidade do algoritmo."
      ]
    },
    {
      "cell_type": "code",
      "metadata": {
        "colab": {
          "base_uri": "https://localhost:8080/",
          "height": 384
        },
        "id": "CAUv_ETCZOUK",
        "outputId": "ed017bed-e39d-478e-fb76-e586bbe213e7"
      },
      "source": [
        "#Para valores acima de 40% e abaixo de 60%\r\n",
        "sns.catplot(x=\"Pred_class\", kind=\"count\", palette=\"Set2\", data=acima_40);"
      ],
      "execution_count": 57,
      "outputs": [
        {
          "output_type": "display_data",
          "data": {
            "image/png": "[encoded data removed]",
            "text/plain": [
              "<Figure size 360x360 with 1 Axes>"
            ]
          },
          "metadata": {
            "tags": [],
            "needs_background": "light"
          }
        }
      ]
    },
    {
      "cell_type": "code",
      "metadata": {
        "colab": {
          "base_uri": "https://localhost:8080/",
          "height": 384
        },
        "id": "8LbQuSeTaCSM",
        "outputId": "7720618e-8f6a-4705-afa3-7ef1d932767d"
      },
      "source": [
        "#Para valores acima de 60%\r\n",
        "sns.catplot(x=\"Pred_class\", kind=\"count\", palette=\"Set2\", data=acima_60);"
      ],
      "execution_count": 59,
      "outputs": [
        {
          "output_type": "display_data",
          "data": {
            "image/png": "[encoded data removed]",
            "text/plain": [
              "<Figure size 360x360 with 1 Axes>"
            ]
          },
          "metadata": {
            "tags": [],
            "needs_background": "light"
          }
        }
      ]
    },
    {
      "cell_type": "code",
      "metadata": {
        "colab": {
          "base_uri": "https://localhost:8080/",
          "height": 384
        },
        "id": "axLQ7nmGaKkB",
        "outputId": "9b0f38cb-b2c6-4fb9-97d3-5f5b920ca142"
      },
      "source": [
        "#Para valores acima de 40%\r\n",
        "sns.catplot(x=\"Pred_class\", kind=\"count\", palette=\"Set2\", data=acima);"
      ],
      "execution_count": 70,
      "outputs": [
        {
          "output_type": "display_data",
          "data": {
            "image/png": "[encoded data removed]",
            "text/plain": [
              "<Figure size 360x360 with 1 Axes>"
            ]
          },
          "metadata": {
            "tags": [],
            "needs_background": "light"
          }
        }
      ]
    },
    {
      "cell_type": "markdown",
      "metadata": {
        "id": "dMJYfpPHfChY"
      },
      "source": [
        "### Relação entre os dados.\r\n",
        "\r\n",
        "Por fim, vamos verificar a correlação entre as colunas do data frame para posteriormente escrever um algoritmo cross-validation k-fold de forma mais eficiente.\r\n",
        "\r\n",
        "Neste ponto, sabemos que existe uma alta relação entre a probabilidade e a Pred_class, queremos saber se há na tabela alguma outra correlação.\r\n",
        "\r\n",
        "> O gráfico de correlação mostra que, quanto mais clara a cor do gráfico maior será a correlação entre as colunas."
      ]
    },
    {
      "cell_type": "code",
      "metadata": {
        "colab": {
          "base_uri": "https://localhost:8080/",
          "height": 142
        },
        "id": "vI8KjBs9frY2",
        "outputId": "629cdc92-f83e-4cd6-9330-61745518f96a"
      },
      "source": [
        "correlacoes = df.corr()\r\n",
        "correlacoes"
      ],
      "execution_count": 77,
      "outputs": [
        {
          "output_type": "execute_result",
          "data": {
            "text/html": [
              "<div>\n",
              "<style scoped>\n",
              "    .dataframe tbody tr th:only-of-type {\n",
              "        vertical-align: middle;\n",
              "    }\n",
              "\n",
              "    .dataframe tbody tr th {\n",
              "        vertical-align: top;\n",
              "    }\n",
              "\n",
              "    .dataframe thead th {\n",
              "        text-align: right;\n",
              "    }\n",
              "</style>\n",
              "<table border=\"1\" class=\"dataframe\">\n",
              "  <thead>\n",
              "    <tr style=\"text-align: right;\">\n",
              "      <th></th>\n",
              "      <th>Pred_class</th>\n",
              "      <th>probabilidade</th>\n",
              "      <th>True_class</th>\n",
              "    </tr>\n",
              "  </thead>\n",
              "  <tbody>\n",
              "    <tr>\n",
              "      <th>Pred_class</th>\n",
              "      <td>1.000000</td>\n",
              "      <td>0.472416</td>\n",
              "      <td>0.172402</td>\n",
              "    </tr>\n",
              "    <tr>\n",
              "      <th>probabilidade</th>\n",
              "      <td>0.472416</td>\n",
              "      <td>1.000000</td>\n",
              "      <td>0.049030</td>\n",
              "    </tr>\n",
              "    <tr>\n",
              "      <th>True_class</th>\n",
              "      <td>0.172402</td>\n",
              "      <td>0.049030</td>\n",
              "      <td>1.000000</td>\n",
              "    </tr>\n",
              "  </tbody>\n",
              "</table>\n",
              "</div>"
            ],
            "text/plain": [
              "               Pred_class  probabilidade  True_class\n",
              "Pred_class       1.000000       0.472416    0.172402\n",
              "probabilidade    0.472416       1.000000    0.049030\n",
              "True_class       0.172402       0.049030    1.000000"
            ]
          },
          "metadata": {
            "tags": []
          },
          "execution_count": 77
        }
      ]
    },
    {
      "cell_type": "code",
      "metadata": {
        "colab": {
          "base_uri": "https://localhost:8080/",
          "height": 270
        },
        "id": "NcaQdvOKgnVt",
        "outputId": "efd56e50-0ee5-4e4e-f5b7-884aeeffbde4"
      },
      "source": [
        "ax = sns.heatmap(correlacoes, annot=True)"
      ],
      "execution_count": 79,
      "outputs": [
        {
          "output_type": "display_data",
          "data": {
            "image/png": "[encoded data removed]",
            "text/plain": [
              "<Figure size 432x288 with 2 Axes>"
            ]
          },
          "metadata": {
            "tags": [],
            "needs_background": "light"
          }
        }
      ]
    },
    {
      "cell_type": "markdown",
      "metadata": {
        "id": "qT9vNqOlhRc5"
      },
      "source": [
        "Com isso, vemos que há uma correlação apenas entre o Pred_class e a probabilidade, correlação essa que já era nítida no começo da análise exploratória."
      ]
    },
    {
      "cell_type": "code",
      "metadata": {
        "id": "wWpIqzw3h2lM"
      },
      "source": [
        ""
      ],
      "execution_count": null,
      "outputs": []
    }
  ]
}